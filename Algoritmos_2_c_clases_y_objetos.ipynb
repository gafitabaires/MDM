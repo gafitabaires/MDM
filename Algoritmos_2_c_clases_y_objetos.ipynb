{
  "nbformat": 4,
  "nbformat_minor": 0,
  "metadata": {
    "colab": {
      "provenance": [],
      "include_colab_link": true
    },
    "kernelspec": {
      "name": "python3",
      "display_name": "Python 3"
    },
    "language_info": {
      "name": "python"
    }
  },
  "cells": [
    {
      "cell_type": "markdown",
      "metadata": {
        "id": "view-in-github",
        "colab_type": "text"
      },
      "source": [
        "<a href=\"https://colab.research.google.com/github/gafitabaires/MDM/blob/main/Algoritmos_2_c_clases_y_objetos.ipynb\" target=\"_parent\"><img src=\"https://colab.research.google.com/assets/colab-badge.svg\" alt=\"Open In Colab\"/></a>"
      ]
    },
    {
      "cell_type": "markdown",
      "metadata": {
        "id": "IldiMQRT2MS0"
      },
      "source": [
        "# <center>Maestría en Explotación de Datos y Descubrimiento del Conocimiento</center>\n",
        "## <center>FCEN - UBA</center>\n",
        "## <center>Curso de Nivelación de Algoritmos 2025</center>\n",
        "\n",
        "### <center>Clase Práctica 2</center>\n",
        "\n"
      ]
    },
    {
      "cell_type": "markdown",
      "metadata": {
        "id": "L8YndI7GQtLL"
      },
      "source": [
        "##Clases\n"
      ]
    },
    {
      "cell_type": "markdown",
      "metadata": {
        "id": "bFxzA84hQtLf"
      },
      "source": [
        "Hasta ahora vimos los tipos de datos principales de Python: cadenas, números, listas, tuplas y diccionarios. Ahora trabajaremos con otra estructura de datos importante, las clases. Las clases son bastante diferentes a los otros tipos de datos, ya que son mucho más flexibles. Las clases permiten definir atributos y el comportamiento que caracteriza cualquier cosa que se quiera modelar en un programa."
      ]
    },
    {
      "cell_type": "markdown",
      "metadata": {
        "id": "9HIL9PH8QtLp"
      },
      "source": [
        "Las clases son una forma de combinar atributos y comportamiento. Por ejemplo, pensemos un cohete para una  simulación de física. Una de las primeras cosas que quisieramos rastrear serian las coordenadas x e y del cohete.\n",
        "\n",
        "Veamos en código un ejemplo simple de una clase de cohete:\n"
      ]
    },
    {
      "cell_type": "code",
      "execution_count": null,
      "metadata": {
        "id": "ULJkJ40gQtLr"
      },
      "outputs": [],
      "source": [
        "class Rocket():\n",
        "\n",
        "    def __init__(self):\n",
        "        # Cada cohete tiene una posición (x,y).\n",
        "        self.x = 0\n",
        "        self.y = 0"
      ]
    },
    {
      "cell_type": "markdown",
      "metadata": {
        "id": "apbrUTL-QtLu"
      },
      "source": [
        "Una de las primeras cosas que se hace con una clase es definir el método **\\__init\\__()**. El método \\__init\\__() establece los valores para cualquier parámetro que necesita ser definido cuando un objeto se crea por primera vez. La parte *self* es una sintaxis que permite acceder a una variable desde cualquier otro lugar de la clase.\n",
        "\n",
        "\n",
        "La clase Rocket almacena dos atributos hasta ahora, pero no puede hacer nada. El primer comportamiento a definir es moverse hacia arriba. Esto es lo que podría parecer en código:"
      ]
    },
    {
      "cell_type": "code",
      "execution_count": null,
      "metadata": {
        "id": "mrhmt7NVQtLv"
      },
      "outputs": [],
      "source": [
        "class Rocket():\n",
        "\n",
        "    def __init__(self):\n",
        "        # Cada cohete tiene una posición (x,y).\n",
        "        self.x = 0\n",
        "        self.y = 0\n",
        "\n",
        "    def move_up(self):\n",
        "        # Incremento la posicion y del cohete.\n",
        "        self.y += 1 #es lo mismo que self.y = self.y + 1"
      ]
    },
    {
      "cell_type": "markdown",
      "metadata": {
        "id": "k7KamqOGQtLy"
      },
      "source": [
        "La clase Rocket puede almacenar alguna información, y puede hacer algo. Pero este código no ha creado realmente un cohete todavía.\n",
        "\n",
        "Veamos cómo \"construir\" realmente un cohete:"
      ]
    },
    {
      "cell_type": "code",
      "execution_count": null,
      "metadata": {
        "id": "ZSqWpGQOQtLz",
        "outputId": "6270ef43-fa51-4bf3-c581-8dd547ae20ac",
        "colab": {
          "base_uri": "https://localhost:8080/"
        }
      },
      "outputs": [
        {
          "output_type": "stream",
          "name": "stdout",
          "text": [
            "<__main__.Rocket object at 0x7d5efc21c820>\n"
          ]
        }
      ],
      "source": [
        "class Rocket():\n",
        "\n",
        "    def __init__(self):\n",
        "        # Cada cohete tiene una posición (x,y).\n",
        "        self.x = 0\n",
        "        self.y = 0\n",
        "\n",
        "    def move_up(self):\n",
        "        # Incremento la posicion y del cohete.\n",
        "        self.y += 1\n",
        "\n",
        "# Creo una instancia del objeto Rocket.\n",
        "cohete = Rocket()\n",
        "print(cohete)"
      ]
    },
    {
      "cell_type": "markdown",
      "metadata": {
        "id": "PKvFzgV_QtL3"
      },
      "source": [
        "Para utilizar realmente una clase, se crea una variable como *cohete*. Python crea un **objeto** de la clase. Un objeto es una instancia única de la clase Rocket; tiene una copia de cada una de las variables de la clase, y puede hacer cualquier acción que esté definida para la clase. En este caso, se puede ver que la variable cohete es un objeto Rocket del archivo de programa \\__main\\__, que se almacena en una ubicación particular en la memoria."
      ]
    },
    {
      "cell_type": "markdown",
      "metadata": {
        "id": "WCjF6SNDQtL3"
      },
      "source": [
        "Lueo de definir al objeto se pueden utilizar sus métodos."
      ]
    },
    {
      "cell_type": "code",
      "execution_count": null,
      "metadata": {
        "id": "benfb0ZDQtL5",
        "outputId": "9aa9b1bf-7912-40d2-baf4-d59a7d4adf57",
        "colab": {
          "base_uri": "https://localhost:8080/"
        }
      },
      "outputs": [
        {
          "output_type": "stream",
          "name": "stdout",
          "text": [
            "Altura del cohete: 0\n",
            "Altura del cohete: 1\n",
            "Altura del cohete: 2\n"
          ]
        }
      ],
      "source": [
        "class Rocket():\n",
        "\n",
        "    def __init__(self):\n",
        "        # Cada cohete tiene una posición (x,y).\n",
        "        self.x = 0\n",
        "        self.y = 0\n",
        "\n",
        "    def move_up(self):\n",
        "        # Incremento la posicion y del cohete.\n",
        "        self.y += 1\n",
        "\n",
        "# Creo una instancia del objeto Rocket.\n",
        "cohete = Rocket()\n",
        "print(\"Altura del cohete:\", cohete.y)\n",
        "\n",
        "cohete.move_up()\n",
        "print(\"Altura del cohete:\", cohete.y)\n",
        "\n",
        "cohete.move_up()\n",
        "print(\"Altura del cohete:\", cohete.y)"
      ]
    },
    {
      "cell_type": "markdown",
      "source": [
        "##Creando varios objetos a partir de una clase"
      ],
      "metadata": {
        "id": "zfSAhn9bWDg8"
      }
    },
    {
      "cell_type": "markdown",
      "metadata": {
        "id": "zUjbU5UxQtL6"
      },
      "source": [
        "Para acceder a los atributos o métodos de un objeto, se da el nombre del objeto y luego se utiliza la notación *punto* para acceder a los atributos y métodos. Así, para obtener el valor y de *cohete*, se utiliza *cohete.y*. Para utilizar el método move_up() en mi cohete, se escribe *cohete.move_up()*."
      ]
    },
    {
      "cell_type": "markdown",
      "metadata": {
        "id": "sjyXL5VBQtL7"
      },
      "source": [
        "Una vez definida una clase, podemos crear tantos objetos de esa clase como deseemos. Cada objeto es su propia instancia de esa clase, con sus propias variables separadas. Todos los objetos pueden tener el mismo comportamiento, pero las acciones particulares de cada objeto no afectan a ninguno de los otros objetos."
      ]
    },
    {
      "cell_type": "markdown",
      "metadata": {
        "id": "mlssMx2LQtL8"
      },
      "source": [
        "Una vez que tienes una clase, puedes definir un objeto y utilizar sus métodos. Así es como podrías definir un cohete y hacer que empiece a moverse hacia arriba:"
      ]
    },
    {
      "cell_type": "code",
      "execution_count": null,
      "metadata": {
        "id": "qwsy3t5NQtL9",
        "outputId": "d62e4991-2793-419f-ed86-4d2389f76b37",
        "colab": {
          "base_uri": "https://localhost:8080/"
        }
      },
      "outputs": [
        {
          "output_type": "stream",
          "name": "stdout",
          "text": [
            "<__main__.Rocket object at 0x7d5efc21c670>\n",
            "<__main__.Rocket object at 0x7d5efc21dae0>\n",
            "<__main__.Rocket object at 0x7d5efc21dd50>\n",
            "<__main__.Rocket object at 0x7d5efc21cb80>\n",
            "<__main__.Rocket object at 0x7d5efc21de70>\n"
          ]
        }
      ],
      "source": [
        "class Rocket():\n",
        "\n",
        "    def __init__(self):\n",
        "        # Cada cohete tiene una posición (x,y).\n",
        "        self.x = 0\n",
        "        self.y = 0\n",
        "\n",
        "    def move_up(self):\n",
        "        # Incremento la posicion y del cohete.\n",
        "        self.y += 1\n",
        "\n",
        "# Crea una flota de 5 cohetes y los almacéna en una lista.\n",
        "lista_cohetes = []\n",
        "for x in range(0,5):\n",
        "    nuevo_cohetes = Rocket()\n",
        "    lista_cohetes.append(nuevo_cohetes)\n",
        "\n",
        "# Se muestra que cada cohete es un objeto independiente.\n",
        "for cohete in lista_cohetes:\n",
        "    print(cohete)"
      ]
    },
    {
      "cell_type": "markdown",
      "metadata": {
        "id": "EVtt9GOOQtNJ"
      },
      "source": [
        "##Redefiniendo la clase para recibir valores de atributos\n",
        "Todo lo que el método \\__init__() hace hasta ahora es establecer los valores x e y del cohete a 0. Podemos añadir fácilmente un par de argumentos de palabras clave para que los nuevos cohetes puedan ser inicializados en cualquier posición:"
      ]
    },
    {
      "cell_type": "code",
      "execution_count": null,
      "metadata": {
        "id": "emyirv7GQtNO",
        "colab": {
          "base_uri": "https://localhost:8080/"
        },
        "outputId": "dfde2024-03f5-45ce-a8d5-db8f37fcdaca"
      },
      "outputs": [
        {
          "output_type": "stream",
          "name": "stdout",
          "text": [
            "El cohete 0 esta en (0, 0).\n",
            "El cohete 1 esta en (0, 10).\n",
            "El cohete 2 esta en (100, 0).\n"
          ]
        }
      ],
      "source": [
        "class Rocket():\n",
        "\n",
        "    def __init__(self, x=0, y=0): #x=0 hace que sino le doy un valor de x, x vale por default 0\n",
        "        # Cada cohete tiene una posición (x,y).\n",
        "        self.x = x\n",
        "        self.y = y\n",
        "\n",
        "    def move_up(self):\n",
        "        # Incremento la posicion y del cohete.\n",
        "        self.y += 1\n",
        "\n",
        "# Crear cohetes en diferentes posiciones iniciales.\n",
        "cohetes = []\n",
        "cohetes.append(Rocket())\n",
        "cohetes.append(Rocket(0,10))\n",
        "cohetes.append(Rocket(100,0))\n",
        "\n",
        "# Show where each rocket is.\n",
        "for index, cohete in enumerate(cohetes):\n",
        "    print(\"El cohete %d esta en (%d, %d).\" % (index, cohete.x, cohete.y))"
      ]
    },
    {
      "cell_type": "markdown",
      "metadata": {
        "id": "U3VwRVKtQtNg"
      },
      "source": [
        "##Añadir un nuevo método\n",
        "\n",
        "Uno de los puntos fuertes de la programación orientada a objetos es la capacidad de modelar estrechamente los fenómenos del mundo real añadiendo atributos y comportamientos adecuados a las clases. Uno de los trabajos de un equipo que pilotea un cohete es asegurarse de que el cohete no se acerque demasiado a otros cohetes. Vamos a añadir un método que informe de la distancia de un cohete a cualquier otro cohete."
      ]
    },
    {
      "cell_type": "markdown",
      "metadata": {
        "id": "XlU6Ow4RQtNi"
      },
      "source": [
        "Este nuevo método realiza ese cálculo y devuelve la distancia resultante."
      ]
    },
    {
      "cell_type": "code",
      "execution_count": null,
      "metadata": {
        "id": "lsMXSj5MQtNn",
        "outputId": "077e33fd-06f4-4462-ea95-83147a291f81",
        "colab": {
          "base_uri": "https://localhost:8080/"
        }
      },
      "outputs": [
        {
          "output_type": "stream",
          "name": "stdout",
          "text": [
            "Los cohetes están a una distancia de 11.180340.\n"
          ]
        }
      ],
      "source": [
        "from math import sqrt\n",
        "\n",
        "class Rocket():\n",
        "\n",
        "\n",
        "    def __init__(self, x=0, y=0):\n",
        "        # Cada cohete tiene una posición (x,y).\n",
        "        self.x = x\n",
        "        self.y = y\n",
        "\n",
        "    def move_rocket(self, x_incremento=0, y_incremento=1):\n",
        "        # Mueve el cohete según los paramétros recibidos.\n",
        "        self.x += x_incremento #self.x = self.x + x_incremento\n",
        "        self.y += y_incremento #self.y = self.y + y_incremento\n",
        "\n",
        "    def get_distance(self, other):\n",
        "        # Calcula la distancia de este cohete a otro cohete,\n",
        "        # y devuelve ese valor.\n",
        "        distancia = sqrt((self.x-other.x)**2+(self.y-other.y)**2)\n",
        "        return distancia\n",
        "\n",
        "cohete_0 = Rocket()\n",
        "cohete_1 = Rocket(10,5)\n",
        "\n",
        "\n",
        "distancia = cohete_0.get_distance(cohete_1)\n",
        "print(\"Los cohetes están a una distancia de %f.\" % distancia)"
      ]
    },
    {
      "cell_type": "markdown",
      "metadata": {
        "id": "z_-p8-u3QtNp"
      },
      "source": [
        "Se pueden extender los atributos y el comportamiento de una clase para modelar los fenómenos que necesitemos. El cohete podría tener un nombre, una capacidad de tripulación, una carga útil, una cierta cantidad de combustible, y cualquier número de otros atributos. Se puede definir cualquier comportamiento que se quiera para el cohete, incluyendo interacciones con otros cohetes e instalaciones de lanzamiento, campos gravitacionales, etc"
      ]
    },
    {
      "cell_type": "markdown",
      "metadata": {
        "id": "_B8Y4-EKQtN2"
      },
      "source": [
        "##Herencia"
      ]
    },
    {
      "cell_type": "markdown",
      "metadata": {
        "id": "pCmk8Kh0QtN3"
      },
      "source": [
        "Uno de los objetivos más importantes del enfoque de la programación orientada a objetos es la creación de código estable, fiable y reutilizable. Si tuvieramos que crear una nueva clase para cada tipo de objeto que quisieramos modelar, apenas tendríamos código reutilizable."
      ]
    },
    {
      "cell_type": "markdown",
      "metadata": {
        "id": "R_13TCZbQtN6"
      },
      "source": [
        "En Python y en cualquier otro lenguaje que soporte POO, una clase puede **heredar** de otra clase. Esto significa que podemos basar una nueva clase en una clase existente; la nueva clase *hereda* todos los atributos y el comportamiento de la clase en la que se basa.\n",
        "\n",
        "Una nueva clase puede anular cualquier atributo o comportamiento no deseado de la clase de la que hereda, y puede añadir cualquier atributo o comportamiento nuevo que sea apropiado. La clase original se llama **clase padre**, y la nueva clase es una **clase hija** de la clase padre. La clase padre también se llama **superclase**, y la clase hija también se llama **subclase**.\n",
        "\n"
      ]
    },
    {
      "cell_type": "markdown",
      "metadata": {
        "id": "788IzGcuQtN8"
      },
      "source": [
        "Esto también significa que una clase hija puede sobreescribir el comportamiento de la clase padre. Si una clase hija define un método que también aparece en la clase padre, los objetos de la clase hija utilizarán el nuevo método en lugar del método de la clase padre."
      ]
    },
    {
      "cell_type": "markdown",
      "metadata": {
        "id": "ZXz7ZFqJQtOA"
      },
      "source": [
        "\n",
        "Si quisieramos modelar un transbordador espacial, podríamos escribir una clase completamente nueva. Pero un transbordador espacial es una clase especial de cohete. En lugar de escribir una clase completamente nueva, se puede heredar todos los atributos y comportamientos de un Cohete, y luego añadir algunos atributos y comportamientos apropiados para un Transbordador.\n",
        "\n",
        "Una de las características más significativas de un transbordador espacial es que puede ser reutilizado. Por lo tanto la única diferencia que añadiremos en este punto será registrar el número de vuelos que ha completado el transbordador. Todo lo demás que necesitamos ya ha sido codificado en la clase Rocket."
      ]
    },
    {
      "cell_type": "code",
      "execution_count": null,
      "metadata": {
        "id": "Qr-v4O7TQtOJ",
        "outputId": "f659d00a-1fd0-4f0d-cf48-bbe4d01e3a33",
        "colab": {
          "base_uri": "https://localhost:8080/"
        }
      },
      "outputs": [
        {
          "output_type": "stream",
          "name": "stdout",
          "text": [
            "<__main__.Shuttle object at 0x7d5efc21d450>\n"
          ]
        }
      ],
      "source": [
        "from math import sqrt\n",
        "\n",
        "class Rocket():\n",
        "\n",
        "    def __init__(self, x=0, y=0):\n",
        "        # Cada cohete tiene una posición (x,y).\n",
        "        self.x = x\n",
        "        self.y = y\n",
        "\n",
        "    def move_rocket(self, x_incremento=0, y_incremento=1):\n",
        "        # Mueve el cohete según los paramétros recibidos.\n",
        "        self.x += x_incremento\n",
        "        self.y += y_incremento\n",
        "\n",
        "    def get_distance(self, other):\n",
        "        # Calcula la distancia de este cohete a otro cohete,\n",
        "        # y devuelve ese valor.\n",
        "        distancia = sqrt((self.x-other.x)**2+(self.y-other.y)**2)\n",
        "        return distancia\n",
        "\n",
        "class Shuttle(Rocket):\n",
        "\n",
        "    def __init__(self, x=0, y=0, vuelos_completados=0):\n",
        "        super().__init__(x, y)\n",
        "        self.vuelos_completados = vuelos_completados\n",
        "\n",
        "transbordador = Shuttle(10,0,3)\n",
        "print(transbordador)"
      ]
    },
    {
      "cell_type": "markdown",
      "metadata": {
        "id": "I0PmJP0bQtOQ"
      },
      "source": [
        "La función *super()* pasa el argumento *self* a la clase padre automáticamente. También se puede hacer esto nombrando explícitamente la clase padre cuando se llama a la función \\__init\\__(), pero entonces hay que incluir el argumento *self* manualmente:"
      ]
    },
    {
      "cell_type": "code",
      "execution_count": null,
      "metadata": {
        "id": "OUhmsEFWQtOR"
      },
      "outputs": [],
      "source": [
        "class Shuttle(Rocket):\n",
        "    def __init__(self, x=0, y=0, vuelos_completados=0):\n",
        "        Rocket.__init__(self, x, y)\n",
        "        self.vuelos_completados = vuelos_completados"
      ]
    },
    {
      "cell_type": "code",
      "source": [
        "transbordador = Shuttle(10,0,3)\n",
        "print(transbordador)"
      ],
      "metadata": {
        "colab": {
          "base_uri": "https://localhost:8080/"
        },
        "id": "U_Dr_Jk2y4En",
        "outputId": "ee1bda78-0724-452d-d9ec-d129e1be2336"
      },
      "execution_count": null,
      "outputs": [
        {
          "output_type": "stream",
          "name": "stdout",
          "text": [
            "<__main__.Shuttle object at 0x7d5efd0b36a0>\n"
          ]
        }
      ]
    },
    {
      "cell_type": "markdown",
      "metadata": {
        "id": "aAVEOZjDQtOV"
      },
      "source": [
        "Usar *super()* es preferible ya que no necesitamos nombrar explícitamente la clase padre, por lo que nuestro código es más resistente a cambios posteriores."
      ]
    },
    {
      "cell_type": "code",
      "execution_count": null,
      "metadata": {
        "id": "CsHi1013QtOW"
      },
      "outputs": [],
      "source": [
        "from math import sqrt\n",
        "from random import randint\n",
        "\n",
        "class Rocket():\n",
        "\n",
        "    def __init__(self, x=0, y=0):\n",
        "        # Cada cohete tiene una posición (x,y).\n",
        "        self.x = x\n",
        "        self.y = y\n",
        "\n",
        "    def move_rocket(self, x_incremento=0, y_incremento=1):\n",
        "        # Mueve el cohete según los paramétros recibidos.\n",
        "        self.x += x_incremento\n",
        "        self.y += y_incremento\n",
        "\n",
        "    def get_distance(self, other):\n",
        "        # Calcula la distancia de este cohete a otro cohete,\n",
        "        # y devuelve ese valor.\n",
        "        distancia = sqrt((self.x-other.x)**2+(self.y-other.y)**2)\n",
        "        return distancia"
      ]
    },
    {
      "cell_type": "code",
      "execution_count": null,
      "metadata": {
        "id": "JNQFJWjpQtOX"
      },
      "outputs": [],
      "source": [
        "class Shuttle(Rocket):\n",
        "\n",
        "    def __init__(self, x=0, y=0, vuelos_completados=0):\n",
        "        super().__init__(x, y)\n",
        "        self.vuelos_completados = vuelos_completados"
      ]
    },
    {
      "cell_type": "code",
      "execution_count": null,
      "metadata": {
        "id": "G3eFIXYBQtOY"
      },
      "outputs": [],
      "source": [
        "# Crea varias lanzaderas y cohetes, con posiciones aleatorias.\n",
        "# Los transbordadores tienen un número aleatorio de vuelos completados.\n",
        "\n",
        "transbordadores = []\n",
        "for x in range(0,3):\n",
        "    x = randint(0,100)\n",
        "    y = randint(1,100)\n",
        "    vuelos_completados = randint(0,10)\n",
        "    transbordadores.append(Shuttle(x, y, vuelos_completados))\n",
        "\n",
        "rockets=[]\n",
        "for x in range(0,3):\n",
        "    x = randint(0,100)\n",
        "    y = randint(1,100)\n",
        "    rockets.append(Rocket(x, y))"
      ]
    },
    {
      "cell_type": "code",
      "execution_count": null,
      "metadata": {
        "id": "4HXXeyQmQtOa",
        "outputId": "9487aadc-ebf1-44dd-c98a-fa83b1555df8",
        "colab": {
          "base_uri": "https://localhost:8080/"
        }
      },
      "outputs": [
        {
          "output_type": "stream",
          "name": "stdout",
          "text": [
            "El transbordador 0 ha completado 5 vuelos.\n",
            "El transbordador 1 ha completado 5 vuelos.\n",
            "El transbordador 2 ha completado 4 vuelos.\n",
            "\n",
            "\n",
            "El primer transbordador está a 0.000000 unidades de distancia del transbordador 0.\n",
            "El primer transbordador está a 29.068884 unidades de distancia del transbordador 1.\n",
            "El primer transbordador está a 80.156098 unidades de distancia del transbordador 2.\n"
          ]
        }
      ],
      "source": [
        "# Muestra el número de vuelos completados para cada transbordador.\n",
        "for index, transbordador in enumerate(transbordadores):\n",
        "    print(\"El transbordador %d ha completado %d vuelos.\" % (index, transbordador.vuelos_completados))\n",
        "\n",
        "print(\"\\n\")\n",
        "# Muestra la distancia del primera transbordador a todos los demás transbordadores.\n",
        "primer_transbordador = transbordadores[0]\n",
        "for index, transbordador in enumerate(transbordadores):\n",
        "    distancia = primer_transbordador.get_distance(transbordador)\n",
        "    print(\"El primer transbordador está a %f unidades de distancia del transbordador %d.\" % (distancia, index))\n"
      ]
    },
    {
      "cell_type": "code",
      "source": [
        "transbordadores[1].x"
      ],
      "metadata": {
        "colab": {
          "base_uri": "https://localhost:8080/"
        },
        "id": "PcMsDRb8UJOr",
        "outputId": "d1ed2e75-1c87-446a-9636-e7f0cd43e654"
      },
      "execution_count": null,
      "outputs": [
        {
          "output_type": "execute_result",
          "data": {
            "text/plain": [
              "55"
            ]
          },
          "metadata": {},
          "execution_count": 18
        }
      ]
    },
    {
      "cell_type": "code",
      "source": [
        "transbordadores[1].y"
      ],
      "metadata": {
        "colab": {
          "base_uri": "https://localhost:8080/"
        },
        "id": "WfuDyoTxUVZj",
        "outputId": "eff40416-dc11-49fc-a483-d24e23dbfccb"
      },
      "execution_count": null,
      "outputs": [
        {
          "output_type": "execute_result",
          "data": {
            "text/plain": [
              "3"
            ]
          },
          "metadata": {},
          "execution_count": 19
        }
      ]
    },
    {
      "cell_type": "code",
      "execution_count": null,
      "metadata": {
        "id": "uChnee35QtOb",
        "outputId": "34a18272-e313-4db0-927d-c063bac8d2f0",
        "colab": {
          "base_uri": "https://localhost:8080/"
        }
      },
      "outputs": [
        {
          "output_type": "stream",
          "name": "stdout",
          "text": [
            "\n",
            "\n",
            "El primer transbordador está a 78.771822 unidades de distancia del cohete 0.\n",
            "El primer transbordador está a 74.464757 unidades de distancia del cohete 1.\n",
            "El primer transbordador está a 49.040799 unidades de distancia del cohete 2.\n"
          ]
        }
      ],
      "source": [
        "print(\"\\n\")\n",
        "# Show the distance from the first shuttle to all other rockets.\n",
        "for index, cohete in enumerate(cohetes):\n",
        "    distancia = primer_transbordador.get_distance(cohete)\n",
        "    print(\"El primer transbordador está a %f unidades de distancia del cohete %d.\" % (distancia, index))\n"
      ]
    },
    {
      "cell_type": "markdown",
      "source": [
        "##Ejercicios"
      ],
      "metadata": {
        "id": "JEUNaXf_XkmO"
      }
    },
    {
      "cell_type": "markdown",
      "metadata": {
        "id": "GOFm9ndebfKV"
      },
      "source": [
        "### Ejercicio 1\n",
        "Implementar una clase globo:\n",
        "* Definir la clase Balloon().\n",
        "* Definir el método \\__init__(), que establece un valor x y un valor y para cada objeto Balloon.\n",
        "* Definir el método move_up().\n",
        "* Crear un objeto globo.\n",
        "* Imprimir el objeto.\n",
        "* Imprimir el valor *y* del objeto.\n",
        "* Mover el cohete hacia arriba, e imprimir su valor *y* de nuevo.\n",
        "* Crear 5 globos, y probar que efectivamente son objetos separados.\n"
      ]
    },
    {
      "cell_type": "code",
      "source": [
        "class Balloon():\n",
        "  def __init__(self, x=0, y=0):\n",
        "    self.x=x\n",
        "    self.y=y\n",
        "  def move_up(self):\n",
        "    self.y+=1\n",
        "globo=Balloon()\n",
        "print(globo)\n",
        "print(globo.y)\n",
        "globo.move_up()\n",
        "print(globo.y)\n",
        "\n",
        "for x in range(0, 5):\n",
        "  globo=Balloon()\n",
        "  print(globo)\n",
        "\n",
        "\n"
      ],
      "metadata": {
        "colab": {
          "base_uri": "https://localhost:8080/"
        },
        "id": "dsIl5Gxb5mc3",
        "outputId": "1344665e-b957-4113-da34-e55efd817e9a"
      },
      "execution_count": null,
      "outputs": [
        {
          "output_type": "stream",
          "name": "stdout",
          "text": [
            "<__main__.Balloon object at 0x78cc3fefa1b0>\n",
            "0\n",
            "1\n",
            "<__main__.Balloon object at 0x78cc4876f740>\n",
            "<__main__.Balloon object at 0x78cc3fefa1b0>\n",
            "<__main__.Balloon object at 0x78cc4876f740>\n",
            "<__main__.Balloon object at 0x78cc3fefa1b0>\n",
            "<__main__.Balloon object at 0x78cc4876f740>\n"
          ]
        }
      ]
    },
    {
      "cell_type": "markdown",
      "metadata": {
        "id": "XwzWLnGUbuDF"
      },
      "source": [
        "### Ejercicio 2\n",
        "Implementar una clase Persona\n",
        "\n",
        "* Definir una clase Persona().\n",
        "* En la función \\__init()\\__, definir varios atributos de una persona. Unos buenos atributos a tener en cuenta son el nombre, la edad, el lugar de nacimiento y cualquier otra cosa que resulte interesante saber sobre las personas de tu vida.\n",
        "* Escribir un método. Por ejemplo, *presentarse()*. Este método imprimiría una declaración como: \"Hola, me llamo Eric\".\n",
        "* Agregar otro método como *cumplir_anios()*. Este método añade 1 a la edad de la persona.\n",
        "* Crear una persona y establecer los valores de los atributos de forma adecuada e imprimir la información sobre la persona.\n",
        "* Llamar a los métodos sobre la persona creada."
      ]
    },
    {
      "cell_type": "code",
      "source": [
        "class Persona():\n",
        "  def __init__(self, nombre, edad, lugar):\n",
        "    self.nombre=nombre\n",
        "    self.edad=edad\n",
        "    self.lugar=lugar\n",
        "\n",
        "  def presentarse(self):\n",
        "    print(\"Hola, me llamo \", self.nombre)\n",
        "  def cumplir_anios(self):\n",
        "    self.edad+=1\n",
        "\n",
        "personita=Persona(\"Juan\", 25, \"Lima\")\n",
        "personita.presentarse()\n",
        "personita.cumplir_anios()\n",
        "print(personita.edad)"
      ],
      "metadata": {
        "colab": {
          "base_uri": "https://localhost:8080/"
        },
        "id": "p7D1hrCu6mYW",
        "outputId": "16313fa1-259b-4ec8-eb0d-c45c4e4acfbd"
      },
      "execution_count": null,
      "outputs": [
        {
          "output_type": "stream",
          "name": "stdout",
          "text": [
            "Hola, me llamo  Juan\n",
            "26\n"
          ]
        }
      ]
    },
    {
      "cell_type": "markdown",
      "metadata": {
        "id": "ZOgu9SS9buRg"
      },
      "source": [
        "### Ejercicio 3\n",
        "Implementar la clase Vehículo y una clase hija Autobús que herede de la clase Vehículo para resolver el siguiente ejercicio.\n",
        "La tarifa por defecto de cualquier vehículo es la capacidad de asientos * 100. Si el vehículo es una instancia de autobús, necesitamos añadir un 10% extra a la tarifa total como cargo de mantenimiento. La tarifa total para la instancia de autobús se convertirá en la cantidad final = tarifa total + 10% de la tarifa total.\n",
        "\n",
        "Nota: La capacidad del autobús es de 50 asientos, por lo que el importe final de la tarifa debería ser de 5500. Necesita sobreescribir el método tarifa() de la clase Vehiculo en la clase Autobús."
      ]
    },
    {
      "cell_type": "code",
      "source": [
        "class Vehiculo():\n",
        "  def __init__(self, capacidad):\n",
        "    self.capacidad=capacidad\n",
        "  def tarifa(self):\n",
        "    tarifa=self.capacidad*100\n",
        "    return tarifa\n",
        "\n",
        "class Autobus(Vehiculo):\n",
        "  def tarifa(self):\n",
        "    tarifa=super().tarifa()\n",
        "    tarifa=tarifa*1.1\n",
        "    return tarifa\n",
        "\n",
        "bus=Autobus(50)\n",
        "print(bus.tarifa())\n"
      ],
      "metadata": {
        "id": "k4Uqj_ob-qQv",
        "outputId": "deb79fbb-99c6-405a-9a33-6222147608eb",
        "colab": {
          "base_uri": "https://localhost:8080/"
        }
      },
      "execution_count": null,
      "outputs": [
        {
          "output_type": "stream",
          "name": "stdout",
          "text": [
            "5500.0\n"
          ]
        }
      ]
    },
    {
      "cell_type": "markdown",
      "source": [
        "### Ejercicio 4\n",
        "Implementar:\n",
        "\n",
        "(a) una clase llamada rectángulo que tiene como atributos dos lados y como métodos área y perímetro.\n",
        "\n",
        "(b) una clase llamada triángulo rectángulo que tiene como atributos dos lados y como métodos área y perímetro.\n",
        "\n",
        "(c) utilizando polimorfismo una función que sirva para calcular el área y otra para calcular la superficie\n"
      ],
      "metadata": {
        "id": "TLi1W_81ZOY9"
      }
    },
    {
      "cell_type": "code",
      "source": [
        "#a. Clase rectangulo con sus métodos\n",
        "class Rectangulo():\n",
        "  def __init__(self, lado1, lado2):\n",
        "    self.lado1=lado1\n",
        "    self.lado2=lado2\n",
        "  def area(self):\n",
        "    area=self.lado1*self.lado2\n",
        "    return area\n",
        "  def perimetro(self):\n",
        "    perimetro=(self.lado1+self.lado2)*2\n",
        "    return perimetro\n",
        "#clase TrianguloRectangulo con sus métodos\n",
        "class TrianguloRectangulo():\n",
        "  def __init__(self, lado1, lado2):\n",
        "    self.lado1=lado1\n",
        "    self.lado2=lado2\n",
        "  def area(self):\n",
        "    area=(self.lado1*self.lado2)/2\n",
        "    return area\n",
        "  def perimetro(self):\n",
        "    perimetro=self.lado1+self.lado2+sqrt(self.lado1**2+self.lado2**2)\n",
        "    return perimetro\n",
        "\n",
        "#c. superficie\n",
        "def superficie(figura):\n",
        "  return figura.area()\n",
        "#perimetro\n",
        "def perimetro(figura):\n",
        "  return figura.perimetro()\n",
        "\n",
        "rect=Rectangulo(6, 8)\n",
        "tri=TrianguloRectangulo(6, 8)\n",
        "#print(rect.area())\n",
        "#print(tri.perimetro())\n",
        "print(superficie(rect))\n",
        "print(perimetro(rect))\n",
        "\n",
        "print(superficie(tri))\n",
        "print(perimetro(tri))"
      ],
      "metadata": {
        "id": "Qvs1sPZO_QZl",
        "outputId": "4dd8497d-b777-4840-97be-37381e8e0e54",
        "colab": {
          "base_uri": "https://localhost:8080/"
        }
      },
      "execution_count": null,
      "outputs": [
        {
          "output_type": "stream",
          "name": "stdout",
          "text": [
            "48\n",
            "28\n",
            "24.0\n",
            "24.0\n"
          ]
        }
      ]
    },
    {
      "cell_type": "code",
      "source": [
        "class Perro:\n",
        "    def hablar(self):\n",
        "        print(\"Guau!\")\n",
        "\n",
        "class Gato:\n",
        "    def hablar(self):\n",
        "        print(\"Miau!\")\n",
        "\n",
        "def hacer_hablar(animal):\n",
        "    animal.hablar()\n",
        "\n",
        "perro = Perro()\n",
        "gato = Gato()\n",
        "\n",
        "hacer_hablar(perro)  # Salida: Guau!\n",
        "hacer_hablar(gato)   # Salida: Miau!"
      ],
      "metadata": {
        "id": "XLnQ6anBCEZb",
        "outputId": "3aa1641f-fd26-4a67-d5be-f78e895838f3",
        "colab": {
          "base_uri": "https://localhost:8080/"
        }
      },
      "execution_count": null,
      "outputs": [
        {
          "output_type": "stream",
          "name": "stdout",
          "text": [
            "Guau!\n",
            "Miau!\n"
          ]
        }
      ]
    }
  ]
}