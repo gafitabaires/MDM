{
  "nbformat": 4,
  "nbformat_minor": 0,
  "metadata": {
    "colab": {
      "provenance": [],
      "include_colab_link": true
    },
    "kernelspec": {
      "name": "python3",
      "display_name": "Python 3"
    },
    "language_info": {
      "name": "python"
    }
  },
  "cells": [
    {
      "cell_type": "markdown",
      "metadata": {
        "id": "view-in-github",
        "colab_type": "text"
      },
      "source": [
        "<a href=\"https://colab.research.google.com/github/gafitabaires/MDM/blob/main/Algoritmos_2_b_funciones.ipynb\" target=\"_parent\"><img src=\"https://colab.research.google.com/assets/colab-badge.svg\" alt=\"Open In Colab\"/></a>"
      ]
    },
    {
      "cell_type": "markdown",
      "source": [
        "# <center>Maestría en Explotación de Datos y Descubrimiento del Conocimiento</center>\n",
        "## <center>FCEN - UBA</center>\n",
        "## <center>Curso de Nivelación de Algoritmos 2025</center>\n",
        "\n",
        "### <center>Clase Práctica 2</center>\n",
        "\n"
      ],
      "metadata": {
        "id": "kIAWd5immlZF"
      }
    },
    {
      "cell_type": "markdown",
      "metadata": {
        "id": "Mdb8ojF0_5D3"
      },
      "source": [
        "## Clase 2 - Temas\n",
        "+ Condicional: if.. ; if..else..\n",
        "+ Ciclo: while..; ciclos anidados.\n",
        "+ Modularidad del código: funciones.\n",
        "+ Alcance (scope) de variables."
      ]
    },
    {
      "cell_type": "markdown",
      "metadata": {
        "id": "XvwzVuBqLePC"
      },
      "source": [
        "## Código de los slides de la parte Teórica"
      ]
    },
    {
      "cell_type": "markdown",
      "metadata": {
        "id": "nKz7JTc3AkXk"
      },
      "source": [
        "### Raiz Cuadrada"
      ]
    },
    {
      "cell_type": "code",
      "metadata": {
        "id": "ib-c9wQZAoxM"
      },
      "source": [
        "def raiz_cuadrada(n):\n",
        "   i = 1\n",
        "   while i * i <= n:\n",
        "      i = i + 1\n",
        "   return i - 1"
      ],
      "execution_count": null,
      "outputs": []
    },
    {
      "cell_type": "code",
      "metadata": {
        "colab": {
          "base_uri": "https://localhost:8080/"
        },
        "id": "PldSURw8K6LF",
        "outputId": "0717e331-0053-4033-c17b-61b4efa41f7c"
      },
      "source": [
        "raiz_cuadrada(6)"
      ],
      "execution_count": null,
      "outputs": [
        {
          "output_type": "execute_result",
          "data": {
            "text/plain": [
              "2"
            ]
          },
          "metadata": {},
          "execution_count": 2
        }
      ]
    },
    {
      "cell_type": "code",
      "metadata": {
        "colab": {
          "base_uri": "https://localhost:8080/"
        },
        "id": "GN7Kry0hK4pQ",
        "outputId": "93fce517-c92d-4b1b-8b3c-fdf78706f4d8"
      },
      "source": [
        "x = 1\n",
        "while x <= 26:\n",
        "   print(raiz_cuadrada(x))\n",
        "   x = x + 1"
      ],
      "execution_count": null,
      "outputs": [
        {
          "output_type": "stream",
          "name": "stdout",
          "text": [
            "1\n",
            "1\n",
            "1\n",
            "2\n",
            "2\n",
            "2\n",
            "2\n",
            "2\n",
            "3\n",
            "3\n",
            "3\n",
            "3\n",
            "3\n",
            "3\n",
            "3\n",
            "4\n",
            "4\n",
            "4\n",
            "4\n",
            "4\n",
            "4\n",
            "4\n",
            "4\n",
            "4\n",
            "5\n",
            "5\n"
          ]
        }
      ]
    },
    {
      "cell_type": "markdown",
      "metadata": {
        "id": "ITKwZNxuXFhY"
      },
      "source": [
        "## Conceptos"
      ]
    },
    {
      "cell_type": "markdown",
      "metadata": {
        "id": "34Hq0F37MBES"
      },
      "source": [
        "### Flujo de Programa\n",
        "Los programas siguen un \"flujo\" definido por el programador. Esto le permite realizar operaciones complejas.\n"
      ]
    },
    {
      "cell_type": "code",
      "metadata": {
        "id": "_cK3Qev_Vfwv",
        "colab": {
          "base_uri": "https://localhost:8080/"
        },
        "outputId": "93b07bf2-82f3-443f-ae94-a15a01760765"
      },
      "source": [
        "fahr = float(75)\n",
        "cel = (5*(fahr-32))/9\n",
        "print (\"fahr=\", round(fahr,2), \"-> cel=\", round(cel,2))"
      ],
      "execution_count": null,
      "outputs": [
        {
          "output_type": "stream",
          "name": "stdout",
          "text": [
            "fahr= 75.0 -> cel= 23.89\n"
          ]
        }
      ]
    },
    {
      "cell_type": "markdown",
      "metadata": {
        "id": "l_ZH2o_FQ5UY"
      },
      "source": [
        "### Entrada de datos"
      ]
    },
    {
      "cell_type": "markdown",
      "metadata": {
        "id": "IiHaxkTmS4_r"
      },
      "source": [
        "##### Argumentos de la línea de comando"
      ]
    },
    {
      "cell_type": "code",
      "metadata": {
        "id": "m1jJ6da53kgo",
        "colab": {
          "base_uri": "https://localhost:8080/"
        },
        "outputId": "6ffa0e9f-af60-4a4c-9116-c5fa8bfbbc81"
      },
      "source": [
        "import sys\n",
        "\n",
        "print(sys.argv)\n",
        "len(sys.argv)"
      ],
      "execution_count": null,
      "outputs": [
        {
          "output_type": "stream",
          "name": "stdout",
          "text": [
            "['/usr/local/lib/python3.12/dist-packages/colab_kernel_launcher.py', '-f', '/root/.local/share/jupyter/runtime/kernel-02a650a5-b137-4f0c-82e9-6399e50c5b8f.json']\n"
          ]
        },
        {
          "output_type": "execute_result",
          "data": {
            "text/plain": [
              "3"
            ]
          },
          "metadata": {},
          "execution_count": 3
        }
      ]
    },
    {
      "cell_type": "code",
      "metadata": {
        "id": "n3ELHp1l13Qx",
        "colab": {
          "base_uri": "https://localhost:8080/"
        },
        "outputId": "ca05583d-b62a-4b5d-cbd8-50ac2c5234e7"
      },
      "source": [
        "# Seteamos los valores de los parámetros de argv como si ejecutáramos desde la línea de comandos\n",
        "sys.argv[0] = 'archivo.py'\n",
        "sys.argv[1] = 75\n",
        "sys.argv.pop(-1)\n",
        "print(sys.argv)\n"
      ],
      "execution_count": null,
      "outputs": [
        {
          "output_type": "stream",
          "name": "stdout",
          "text": [
            "['archivo.py', 75]\n"
          ]
        }
      ]
    },
    {
      "cell_type": "code",
      "metadata": {
        "id": "XC_jLlRZQ3Go",
        "colab": {
          "base_uri": "https://localhost:8080/"
        },
        "outputId": "8545b1de-769d-4922-b7c5-e793cf08bbe3"
      },
      "source": [
        "import sys\n",
        "\n",
        "fahr = float(sys.argv[1])\n",
        "cel = (5*(fahr-32))/9\n",
        "print (\"fahr=\", round(fahr,2), \"-> cel=\", round(cel,2))\n"
      ],
      "execution_count": null,
      "outputs": [
        {
          "output_type": "stream",
          "name": "stdout",
          "text": [
            "fahr= 75.0 -> cel= 23.89\n"
          ]
        }
      ]
    },
    {
      "cell_type": "markdown",
      "metadata": {
        "id": "Sr-6ahlHAyyg"
      },
      "source": [
        "##### Input o entrada por teclado\n",
        "El input de un programa es la manera de recibir información del entorno externo al programa. Esto puede ser un usuario, un archivo, otro programa, un sensor, etc.\n",
        "\n",
        "Para ingresar una variable podemos usar input( \"Texto a mostrar:\" ). Corran este código ustedes para que les de una pequeña casilla donde escribir, y luego el programa escribirá lo que ustedes ingresaron."
      ]
    },
    {
      "cell_type": "code",
      "metadata": {
        "colab": {
          "base_uri": "https://localhost:8080/"
        },
        "id": "DEeT1IqNEB1b",
        "outputId": "f984f452-f039-4c0a-fe75-9a97e807ec07"
      },
      "source": [
        "nombre = input(\"¿cual es tu nombre?\")\n",
        "print(\"Hola \" + nombre)"
      ],
      "execution_count": null,
      "outputs": [
        {
          "output_type": "stream",
          "name": "stdout",
          "text": [
            "¿cual es tu nombre?jj\n",
            "Hola jj\n"
          ]
        }
      ]
    },
    {
      "cell_type": "code",
      "metadata": {
        "id": "DpicbFPvAK7R",
        "colab": {
          "base_uri": "https://localhost:8080/"
        },
        "outputId": "8d90d6d9-167b-47a6-9097-1a3d7357156d"
      },
      "source": [
        "lugar = input(\"Ingrese la ciudad donde vive: \")\n",
        "temperatura = input(\"Ingrese cuántos grados hace: \")\n",
        "\n",
        "print(\"\")\n",
        "print(\"Hola, soy de \", lugar)\n",
        "print(\"La temperatura es de \", temperatura, \" grados\")"
      ],
      "execution_count": null,
      "outputs": [
        {
          "output_type": "stream",
          "name": "stdout",
          "text": [
            "Ingrese la ciudad donde vive: d\\\n",
            "Ingrese cuántos grados hace: d\n",
            "\n",
            "Hola, soy de  d\\\n",
            "La temperatura es de  d  grados\n"
          ]
        }
      ]
    },
    {
      "cell_type": "markdown",
      "metadata": {
        "id": "eID1s7HEMKua"
      },
      "source": [
        "### Estructura \"if\" (Sentencias Condicionales)\n",
        " Es la estructura básica que le permite al programador ver si se cumple una condición, y realizar distintas acciones según si eso sucede o no.\n",
        "\n",
        "**if** (condicion):\n",
        "    \n",
        "    ... lo que se hace si se cumple la condición\n",
        "    \n",
        "**elif** (condicion2):\n",
        "\n",
        "    ... lo que se hace si se cumple la condicion2\n",
        "     \n",
        "**else**:\n",
        "\n",
        "    ... lo que se hace si no se cumple la condición\n",
        "    \n",
        "    \n",
        " Siempre se comienza con **if**, después puede haber cualquier cantidad de **elif** (o ninguno) y luego se puede terminar con **else** (o no). Luego del **else** no puede haber más **elif**.\n"
      ]
    },
    {
      "cell_type": "code",
      "metadata": {
        "colab": {
          "base_uri": "https://localhost:8080/"
        },
        "id": "HyslFC7NEnQ0",
        "outputId": "98c89c18-b45a-4b96-cacd-1a2090884cae"
      },
      "source": [
        "a = 5\n",
        "b = 9\n",
        "c = a * b\n",
        "\n",
        "if a > b:\n",
        "    print('a mayor que b')\n",
        "elif a < c:\n",
        "    print('c es mayor que todos')\n",
        "else:\n",
        "    print('final')"
      ],
      "execution_count": null,
      "outputs": [
        {
          "output_type": "stream",
          "name": "stdout",
          "text": [
            "c es mayor que todos\n"
          ]
        }
      ]
    },
    {
      "cell_type": "code",
      "metadata": {
        "colab": {
          "base_uri": "https://localhost:8080/"
        },
        "id": "azpw53XkGDq1",
        "outputId": "f589eafe-60e4-4af0-9bdd-4ee344b7bc50"
      },
      "source": [
        "\n",
        "opcion = input(\"elija una opcion entre 0 y 10\")\n",
        "type(opcion)"
      ],
      "execution_count": null,
      "outputs": [
        {
          "name": "stdout",
          "output_type": "stream",
          "text": [
            "elija una opcion entre 0 y 109\n"
          ]
        },
        {
          "output_type": "execute_result",
          "data": {
            "text/plain": [
              "str"
            ]
          },
          "metadata": {},
          "execution_count": 14
        }
      ]
    },
    {
      "cell_type": "code",
      "metadata": {
        "colab": {
          "base_uri": "https://localhost:8080/"
        },
        "id": "iT75MwDvGHZn",
        "outputId": "3e9cc86a-65cf-4f62-8631-9bb26df0ba04"
      },
      "source": [
        "type(int(opcion))"
      ],
      "execution_count": null,
      "outputs": [
        {
          "output_type": "execute_result",
          "data": {
            "text/plain": [
              "int"
            ]
          },
          "metadata": {},
          "execution_count": 16
        }
      ]
    },
    {
      "cell_type": "code",
      "metadata": {
        "colab": {
          "base_uri": "https://localhost:8080/"
        },
        "id": "Y1wPF3weFJN_",
        "outputId": "c0e710f6-e2a5-4546-d99c-15e503297607"
      },
      "source": [
        "opcion = input(\"elija una opcion entre 0 y 10: \")\n",
        "#opcionint = int(opcion)\n",
        "\n",
        "if int(opcion) == 0:\n",
        "    print(\"felicitaciones ganaste!\")\n",
        "elif int(opcion) > 0 and int(opcion) < 5:\n",
        "    print(\"estas cerca\")\n",
        "elif int(opcion) > 5 and int(opcion) <= 10:\n",
        "    print(\"lo siento perdiste\")\n",
        "elif int(opcion) == 100:\n",
        "    print(\"GANASTE TODO\")\n",
        "else:\n",
        "  print(\"Valor errado\")"
      ],
      "execution_count": null,
      "outputs": [
        {
          "output_type": "stream",
          "name": "stdout",
          "text": [
            "elija una opcion entre 0 y 10: 9\n",
            "lo siento perdiste\n"
          ]
        }
      ]
    },
    {
      "cell_type": "code",
      "metadata": {
        "id": "y4rJTokkR-tI",
        "colab": {
          "base_uri": "https://localhost:8080/"
        },
        "outputId": "10b67031-08e0-4275-b1df-86319edc46ec"
      },
      "source": [
        "import sys\n",
        "\n",
        "# conversor fahrenheit a celsius - Leyendo el dato por argv\n",
        "if len(sys.argv) != 2:\n",
        "\tprint(\"uso: f2c valor\\n\")\n",
        "else:\n",
        "\tfahr = float(sys.argv[1])\n",
        "\tcel = (5*(fahr-32))/9\n",
        "\tprint (\"fahr=\", round(fahr,2), \"-> cel=\", round(cel,2))"
      ],
      "execution_count": null,
      "outputs": [
        {
          "output_type": "stream",
          "name": "stdout",
          "text": [
            "fahr= 75.0 -> cel= 23.89\n"
          ]
        }
      ]
    },
    {
      "cell_type": "code",
      "metadata": {
        "id": "L95lPRGrCzJE",
        "colab": {
          "base_uri": "https://localhost:8080/"
        },
        "outputId": "09adc9ac-3eb9-47f6-da63-6cbb8a35a08a"
      },
      "source": [
        "# conversor fahrenheit a celsius - Leyendo el dato por ingreso del teclado\n",
        "\n",
        "x = input(\"Ingrese temperatura en fahrenheitt: \")\n",
        "if (x.isnumeric() == False):\n",
        "  print(\"Debe ingresar un valor numérico Real\")\n",
        "else:\n",
        "  fahr = float(x)\n",
        "  cel = (5*(fahr-32))/9\n",
        "  print (\"fahr=\", round(fahr,2), \"-> cel=\", round(cel,2))"
      ],
      "execution_count": null,
      "outputs": [
        {
          "output_type": "stream",
          "name": "stdout",
          "text": [
            "Ingrese temperatura en fahrenheitt: 33\n",
            "fahr= 33.0 -> cel= 0.56\n"
          ]
        }
      ]
    },
    {
      "cell_type": "markdown",
      "metadata": {
        "id": "k_oeq4O9Mpjj"
      },
      "source": [
        "### Estructura \"while\" (Ciclos o bucles)\n",
        "Permite ejecutar operaciones mientras se cumpla una condición.\n",
        "\n",
        "**while** (Condicion):\n",
        "\n",
        "    ... lo que se hace mientras se cumpla la condicion\n",
        "\n",
        "**else** :\n",
        "\n",
        "    ... Se ejecuta cuando la condicion no se cumple más"
      ]
    },
    {
      "cell_type": "markdown",
      "metadata": {
        "id": "elBYmvOHSfqX"
      },
      "source": [
        "Generar una tabla de conversión de grados\n",
        "Fahrenheit a Celsius partiendo de 0 hasta\n",
        "100 a intervalos de 10."
      ]
    },
    {
      "cell_type": "code",
      "metadata": {
        "id": "iKDOK57wSXK6",
        "colab": {
          "base_uri": "https://localhost:8080/"
        },
        "outputId": "454feb30-d75c-4b51-e3a8-2628536af53c"
      },
      "source": [
        "# Conversor fahrenheit a celsius\n",
        "\n",
        "fahr = 0\n",
        "while fahr < 101:\n",
        "\tcel = (5*(fahr-32))/9\n",
        "\tprint(\"fahr=\", round(fahr,2), \"-> cel=\", round(cel,2))\n",
        "\tfahr = fahr + 10"
      ],
      "execution_count": null,
      "outputs": [
        {
          "output_type": "stream",
          "name": "stdout",
          "text": [
            "fahr= 0 -> cel= -17.78\n",
            "fahr= 10 -> cel= -12.22\n",
            "fahr= 20 -> cel= -6.67\n",
            "fahr= 30 -> cel= -1.11\n",
            "fahr= 40 -> cel= 4.44\n",
            "fahr= 50 -> cel= 10.0\n",
            "fahr= 60 -> cel= 15.56\n",
            "fahr= 70 -> cel= 21.11\n",
            "fahr= 80 -> cel= 26.67\n",
            "fahr= 90 -> cel= 32.22\n",
            "fahr= 100 -> cel= 37.78\n"
          ]
        }
      ]
    },
    {
      "cell_type": "markdown",
      "metadata": {
        "id": "gW4dKpFhTGcA"
      },
      "source": [
        "Generar una tabla de conversión de grados\n",
        "Fahrenheit a Celsius partiendo de 0 hasta\n",
        "100 a intervalos de 10.\n",
        "Y luego de 100 a 110 a intervalos de 1."
      ]
    },
    {
      "cell_type": "code",
      "metadata": {
        "id": "YTqeaRVmTIi_",
        "colab": {
          "base_uri": "https://localhost:8080/"
        },
        "outputId": "61240f5a-9557-4d0b-d14b-9a420d355146"
      },
      "source": [
        "# conversor fahrenheit a celsius\n",
        "\n",
        "fahr = 0\n",
        "while fahr < 101:\n",
        "\tcel = (5*(fahr-32))/9\n",
        "\tprint(\"fahr=\", round(fahr,2), \"-> cel=\", round(cel,2))\n",
        "\tfahr = fahr + 10\n",
        "\n",
        "fahr = 101\n",
        "while fahr < 111:\n",
        "\tcel = (5*(fahr-32))/9\n",
        "\tprint(\"fahr=\", round(fahr,2), \"-> cel=\", round(cel,2))\n",
        "\tfahr = fahr + 1"
      ],
      "execution_count": null,
      "outputs": [
        {
          "output_type": "stream",
          "name": "stdout",
          "text": [
            "fahr= 0 -> cel= -17.78\n",
            "fahr= 10 -> cel= -12.22\n",
            "fahr= 20 -> cel= -6.67\n",
            "fahr= 30 -> cel= -1.11\n",
            "fahr= 40 -> cel= 4.44\n",
            "fahr= 50 -> cel= 10.0\n",
            "fahr= 60 -> cel= 15.56\n",
            "fahr= 70 -> cel= 21.11\n",
            "fahr= 80 -> cel= 26.67\n",
            "fahr= 90 -> cel= 32.22\n",
            "fahr= 100 -> cel= 37.78\n",
            "fahr= 101 -> cel= 38.33\n",
            "fahr= 102 -> cel= 38.89\n",
            "fahr= 103 -> cel= 39.44\n",
            "fahr= 104 -> cel= 40.0\n",
            "fahr= 105 -> cel= 40.56\n",
            "fahr= 106 -> cel= 41.11\n",
            "fahr= 107 -> cel= 41.67\n",
            "fahr= 108 -> cel= 42.22\n",
            "fahr= 109 -> cel= 42.78\n",
            "fahr= 110 -> cel= 43.33\n"
          ]
        }
      ]
    },
    {
      "cell_type": "markdown",
      "metadata": {
        "id": "pYHRP74qNJ1C"
      },
      "source": [
        "### Estructura \"for\" (Ciclos o bucles)\n",
        "La estructura del for permite realizar una serie de acciones con una variable, que cambia su valor en cada repetición (iteración).\n",
        "\n",
        "for (variable) in (conjunto de valores):\n",
        "\n",
        "... Lo que quieras hacer con tu variable\n",
        "Veámoslo en un ejemplo de codigo:"
      ]
    },
    {
      "cell_type": "code",
      "metadata": {
        "id": "YhwJ-thzNQ7v",
        "colab": {
          "base_uri": "https://localhost:8080/"
        },
        "outputId": "77187841-da68-4a02-f98f-dcc7f76a641a"
      },
      "source": [
        "for x in range(0,18,6):\n",
        "    print(x)"
      ],
      "execution_count": null,
      "outputs": [
        {
          "output_type": "stream",
          "name": "stdout",
          "text": [
            "0\n",
            "6\n",
            "12\n"
          ]
        }
      ]
    },
    {
      "cell_type": "markdown",
      "metadata": {
        "id": "m8z6yQSnNRqN"
      },
      "source": [
        "range(a,b,d) nos genera los valores desde a hasta b con incrementos de d, por ejemplo el siguiente codigo generara los numeros pares entre 0 y 10:"
      ]
    },
    {
      "cell_type": "code",
      "metadata": {
        "id": "MP3t9GNvNa3j",
        "colab": {
          "base_uri": "https://localhost:8080/"
        },
        "outputId": "4d9b7f01-a2be-4a10-9849-b65dd3f1015b"
      },
      "source": [
        "for x in range(0,10,2):\n",
        "    print(x)"
      ],
      "execution_count": null,
      "outputs": [
        {
          "output_type": "stream",
          "name": "stdout",
          "text": [
            "0\n",
            "2\n",
            "4\n",
            "6\n",
            "8\n"
          ]
        }
      ]
    },
    {
      "cell_type": "markdown",
      "metadata": {
        "id": "3C1FH9fBNhub"
      },
      "source": [
        "Noten que el límite superior del rango nunca es incluído.\n",
        "\n",
        "Al utilizar la instrucción range( ) no es necesario proporcionar siempre los 3 parametros. Observen que sucede cuando se proporcionan 1, 2 o 3 parámetros:"
      ]
    },
    {
      "cell_type": "code",
      "metadata": {
        "id": "X6GFkVpRNl8q",
        "colab": {
          "base_uri": "https://localhost:8080/"
        },
        "outputId": "06b9e529-34cb-4e86-ad7a-699e14beb8dc"
      },
      "source": [
        "print(\"range(5):\")\n",
        "for x in range(5):\n",
        "    print(x)\n",
        "\n",
        "print(\"range(10, 15):\")\n",
        "for x in range(10, 15):\n",
        "    print(x)\n",
        "\n",
        "print(\"range(10, 20, 3):\")\n",
        "for x in range(10, 20, 3):\n",
        "    print(x)"
      ],
      "execution_count": null,
      "outputs": [
        {
          "output_type": "stream",
          "name": "stdout",
          "text": [
            "range(5):\n",
            "0\n",
            "1\n",
            "2\n",
            "3\n",
            "4\n",
            "range(10, 15):\n",
            "10\n",
            "11\n",
            "12\n",
            "13\n",
            "14\n",
            "range(10, 20, 3):\n",
            "10\n",
            "13\n",
            "16\n",
            "19\n"
          ]
        }
      ]
    },
    {
      "cell_type": "markdown",
      "metadata": {
        "id": "C7byBI4ETR3P"
      },
      "source": [
        "### Funciones"
      ]
    },
    {
      "cell_type": "markdown",
      "metadata": {
        "id": "ffRhgl57Xcpz"
      },
      "source": [
        "Podemos pensar que una funcion es como tomar un conjunto de instrucciones y empaquetarlas bajo el mismo nombre, es como un pequeño programa dentro del programa, una manera de crear nuestras propias instrucciones. Las funciones son bloques que nos permiten acortar el código no repitiendo estructuras que necesitamos utilizar mucho. Al igual que los programas las funciones tienen un input y un output: el input son las variables de entrada y su output es el valor o valores que devuelven.\n",
        "\n",
        "En Python las funciones se implementan de la siguiente forma:\n",
        "\n",
        "\n",
        "**def** miFunción($a_i,b_i,c_i,...$)**:**\n",
        "\n",
        "     ... Hago lo que necesite con las variables a,b,c\n",
        "    \n",
        "   **return** $a_o,b_o,c_o,...$\n",
        "\n",
        "\n",
        "Es importante tener en cuenta que la *definicion* de la funcion no provoca ninguna acción, solamente le indica a la computadora que la proxima vez que se escriba el nombre de la función, esta debe realizar las instrucciones indicadas por la definición.\n",
        "\n",
        "Confeccionar una funcion para convertir de fahrenheit a Celcius"
      ]
    },
    {
      "cell_type": "code",
      "metadata": {
        "id": "ktuCJO5MTUA3"
      },
      "source": [
        "# conversor fahrenheit a celsius\n",
        "\n",
        "def convertir(valorInicial, valorFinal, intervalo):\n",
        "\tfahr = valorInicial\n",
        "\twhile fahr <= valorFinal:\n",
        "\t\tcel = (5*(fahr-32))/9\n",
        "\t\tprint(\"fahrenheit=\", round(fahr,2), \"-> celsius=\", round(cel,2))\n",
        "\t\tfahr = fahr + intervalo"
      ],
      "execution_count": null,
      "outputs": []
    },
    {
      "cell_type": "code",
      "metadata": {
        "colab": {
          "base_uri": "https://localhost:8080/"
        },
        "id": "-iClABXdI_rc",
        "outputId": "f7de9a38-ab1c-40e0-cbe4-0eb97d496e53"
      },
      "source": [
        "convertir(0, 100, 10)"
      ],
      "execution_count": null,
      "outputs": [
        {
          "output_type": "stream",
          "name": "stdout",
          "text": [
            "fahrenheit= 0 -> celsius= -17.78\n",
            "fahrenheit= 10 -> celsius= -12.22\n",
            "fahrenheit= 20 -> celsius= -6.67\n",
            "fahrenheit= 30 -> celsius= -1.11\n",
            "fahrenheit= 40 -> celsius= 4.44\n",
            "fahrenheit= 50 -> celsius= 10.0\n",
            "fahrenheit= 60 -> celsius= 15.56\n",
            "fahrenheit= 70 -> celsius= 21.11\n",
            "fahrenheit= 80 -> celsius= 26.67\n",
            "fahrenheit= 90 -> celsius= 32.22\n",
            "fahrenheit= 100 -> celsius= 37.78\n"
          ]
        }
      ]
    },
    {
      "cell_type": "code",
      "metadata": {
        "colab": {
          "base_uri": "https://localhost:8080/"
        },
        "id": "X55j6Md-JF04",
        "outputId": "b55b6230-8656-46d3-961f-1925dd908e19"
      },
      "source": [
        "convertir(101, 110, 1)"
      ],
      "execution_count": null,
      "outputs": [
        {
          "output_type": "stream",
          "name": "stdout",
          "text": [
            "fahrenheit= 101 -> celsius= 38.33\n",
            "fahrenheit= 102 -> celsius= 38.89\n",
            "fahrenheit= 103 -> celsius= 39.44\n",
            "fahrenheit= 104 -> celsius= 40.0\n",
            "fahrenheit= 105 -> celsius= 40.56\n",
            "fahrenheit= 106 -> celsius= 41.11\n",
            "fahrenheit= 107 -> celsius= 41.67\n",
            "fahrenheit= 108 -> celsius= 42.22\n",
            "fahrenheit= 109 -> celsius= 42.78\n",
            "fahrenheit= 110 -> celsius= 43.33\n"
          ]
        }
      ]
    },
    {
      "cell_type": "code",
      "metadata": {
        "colab": {
          "base_uri": "https://localhost:8080/"
        },
        "id": "kbeIi9-EJZ-j",
        "outputId": "c4703c98-8147-4a88-d8b7-8eb0e79d77d0"
      },
      "source": [
        "convertir(25, 69, 2)"
      ],
      "execution_count": null,
      "outputs": [
        {
          "output_type": "stream",
          "name": "stdout",
          "text": [
            "fahrenheit= 25 -> celsius= -3.89\n",
            "fahrenheit= 27 -> celsius= -2.78\n",
            "fahrenheit= 29 -> celsius= -1.67\n",
            "fahrenheit= 31 -> celsius= -0.56\n",
            "fahrenheit= 33 -> celsius= 0.56\n",
            "fahrenheit= 35 -> celsius= 1.67\n",
            "fahrenheit= 37 -> celsius= 2.78\n",
            "fahrenheit= 39 -> celsius= 3.89\n",
            "fahrenheit= 41 -> celsius= 5.0\n",
            "fahrenheit= 43 -> celsius= 6.11\n",
            "fahrenheit= 45 -> celsius= 7.22\n",
            "fahrenheit= 47 -> celsius= 8.33\n",
            "fahrenheit= 49 -> celsius= 9.44\n",
            "fahrenheit= 51 -> celsius= 10.56\n",
            "fahrenheit= 53 -> celsius= 11.67\n",
            "fahrenheit= 55 -> celsius= 12.78\n",
            "fahrenheit= 57 -> celsius= 13.89\n",
            "fahrenheit= 59 -> celsius= 15.0\n",
            "fahrenheit= 61 -> celsius= 16.11\n",
            "fahrenheit= 63 -> celsius= 17.22\n",
            "fahrenheit= 65 -> celsius= 18.33\n",
            "fahrenheit= 67 -> celsius= 19.44\n",
            "fahrenheit= 69 -> celsius= 20.56\n"
          ]
        }
      ]
    },
    {
      "cell_type": "code",
      "metadata": {
        "colab": {
          "base_uri": "https://localhost:8080/"
        },
        "id": "4ZAUWLM2Jgv0",
        "outputId": "299dd501-e2b2-4d92-85df-b6c6fed5e70e"
      },
      "source": [
        "convertir(0, 9, 1)"
      ],
      "execution_count": null,
      "outputs": [
        {
          "output_type": "stream",
          "name": "stdout",
          "text": [
            "fahrenheit= 0 -> celsius= -17.78\n",
            "fahrenheit= 1 -> celsius= -17.22\n",
            "fahrenheit= 2 -> celsius= -16.67\n",
            "fahrenheit= 3 -> celsius= -16.11\n",
            "fahrenheit= 4 -> celsius= -15.56\n",
            "fahrenheit= 5 -> celsius= -15.0\n",
            "fahrenheit= 6 -> celsius= -14.44\n",
            "fahrenheit= 7 -> celsius= -13.89\n",
            "fahrenheit= 8 -> celsius= -13.33\n",
            "fahrenheit= 9 -> celsius= -12.78\n"
          ]
        }
      ]
    },
    {
      "cell_type": "markdown",
      "metadata": {
        "id": "5Eln7kRMTg5f"
      },
      "source": [
        "#### Encapsulamiento y abstracción"
      ]
    },
    {
      "cell_type": "markdown",
      "metadata": {
        "id": "a3Z3HDOhZsIC"
      },
      "source": [
        "La instrucción **return** sirve para indicar el resultado que la función \"devuelve\". Una vez que se alcanza la instrucción **return** la función termina y devuelve el valor indicado. En general es preferible devolver información usando **return** antes que imprimirla usando **print** ya que esto permite reutilizar la función para una cantidad de casos mayor, donde no siempre quiero mostrar el resultado en pantalla, aunque queda a criterio de cada uno para lo que necesite."
      ]
    },
    {
      "cell_type": "code",
      "metadata": {
        "id": "nT_yeBfsTl1v"
      },
      "source": [
        "# conversor fahrenheit a celsius\n",
        "\n",
        "def fahrenheit2Celsius(valor):\n",
        "\t\treturn (5*(valor-32))/9\n",
        "\n",
        "def convertir(valorInicial, valorFinal, intervalo):\n",
        "\tfahr = valorInicial\n",
        "\twhile fahr <= valorFinal:\n",
        "\t\tcel = fahrenheit2Celsius(fahr)\n",
        "\t\tprint(\"fahr=\", round(fahr,2), \"-> cel=\", round(cel,2))\n",
        "\t\tfahr = fahr + intervalo;"
      ],
      "execution_count": null,
      "outputs": []
    },
    {
      "cell_type": "code",
      "metadata": {
        "colab": {
          "base_uri": "https://localhost:8080/"
        },
        "id": "yETN7UDfKT5K",
        "outputId": "862641a4-6b1e-48ab-93a4-028faa639879"
      },
      "source": [
        "convertir(0, 100, 10)"
      ],
      "execution_count": null,
      "outputs": [
        {
          "output_type": "stream",
          "name": "stdout",
          "text": [
            "fahr= 0 -> cel= -17.78\n",
            "fahr= 10 -> cel= -12.22\n",
            "fahr= 20 -> cel= -6.67\n",
            "fahr= 30 -> cel= -1.11\n",
            "fahr= 40 -> cel= 4.44\n",
            "fahr= 50 -> cel= 10.0\n",
            "fahr= 60 -> cel= 15.56\n",
            "fahr= 70 -> cel= 21.11\n",
            "fahr= 80 -> cel= 26.67\n",
            "fahr= 90 -> cel= 32.22\n",
            "fahr= 100 -> cel= 37.78\n"
          ]
        }
      ]
    },
    {
      "cell_type": "code",
      "source": [],
      "metadata": {
        "id": "yOtJag0jkn3J"
      },
      "execution_count": null,
      "outputs": []
    },
    {
      "cell_type": "code",
      "metadata": {
        "id": "lTJf6TY6KRev"
      },
      "source": [],
      "execution_count": null,
      "outputs": []
    },
    {
      "cell_type": "markdown",
      "source": [
        "### Diccionarios"
      ],
      "metadata": {
        "id": "_FnG6ImhsTpK"
      }
    },
    {
      "cell_type": "code",
      "source": [
        "#Diccionario Vacio\n",
        "un_diccionario={}"
      ],
      "metadata": {
        "id": "K--dE4nZsWfd"
      },
      "execution_count": null,
      "outputs": []
    },
    {
      "cell_type": "code",
      "source": [
        "#Tipo de dato\n",
        "type(un_diccionario)"
      ],
      "metadata": {
        "colab": {
          "base_uri": "https://localhost:8080/"
        },
        "id": "Sgf6eiOvtq3k",
        "outputId": "832fa5d2-a011-4f0e-8d11-fa0b8b9ea7c8"
      },
      "execution_count": null,
      "outputs": [
        {
          "output_type": "execute_result",
          "data": {
            "text/plain": [
              "dict"
            ]
          },
          "metadata": {},
          "execution_count": 33
        }
      ]
    },
    {
      "cell_type": "code",
      "source": [
        "#diccionario con dos elementos\n",
        "otro_diccionario = {'nombre': 'pepe', \"edad\": 3}"
      ],
      "metadata": {
        "id": "1WH9q0-0tulM"
      },
      "execution_count": null,
      "outputs": []
    },
    {
      "cell_type": "code",
      "source": [
        "#Cantidad de elementos\n",
        "len(otro_diccionario)"
      ],
      "metadata": {
        "colab": {
          "base_uri": "https://localhost:8080/"
        },
        "id": "O94Rc7ECx3kp",
        "outputId": "877ec4da-62ee-4f8a-e85c-4d396868d6e5"
      },
      "execution_count": null,
      "outputs": [
        {
          "output_type": "execute_result",
          "data": {
            "text/plain": [
              "2"
            ]
          },
          "metadata": {},
          "execution_count": 35
        }
      ]
    },
    {
      "cell_type": "code",
      "source": [
        "#Accedemos a los elementos por clave\n",
        "otro_diccionario['nombre']"
      ],
      "metadata": {
        "colab": {
          "base_uri": "https://localhost:8080/",
          "height": 36
        },
        "id": "XXd6p4igtuVq",
        "outputId": "4dc6fa2e-2ba7-41b5-a0dc-35a1a1697989"
      },
      "execution_count": null,
      "outputs": [
        {
          "output_type": "execute_result",
          "data": {
            "text/plain": [
              "'pepe'"
            ],
            "application/vnd.google.colaboratory.intrinsic+json": {
              "type": "string"
            }
          },
          "metadata": {},
          "execution_count": 36
        }
      ]
    },
    {
      "cell_type": "code",
      "source": [
        "#Accedemos a los elementos por clave\n",
        "otro_diccionario['edad']"
      ],
      "metadata": {
        "colab": {
          "base_uri": "https://localhost:8080/"
        },
        "id": "trMNOGX-uIdl",
        "outputId": "dadbc522-ec9f-461a-a8c3-ac5890224ece"
      },
      "execution_count": null,
      "outputs": [
        {
          "output_type": "execute_result",
          "data": {
            "text/plain": [
              "3"
            ]
          },
          "metadata": {},
          "execution_count": 37
        }
      ]
    },
    {
      "cell_type": "code",
      "source": [
        "#Creo una nueva clave para el diccionario\n",
        "otro_diccionario['apellido']='perez'\n",
        "print(otro_diccionario)"
      ],
      "metadata": {
        "colab": {
          "base_uri": "https://localhost:8080/"
        },
        "id": "3lA030edwAVW",
        "outputId": "f5b09808-ecbc-43f5-9e2c-febad9f048ff"
      },
      "execution_count": null,
      "outputs": [
        {
          "output_type": "stream",
          "name": "stdout",
          "text": [
            "{'nombre': 'pepe', 'edad': 3, 'apellido': 'perez'}\n"
          ]
        }
      ]
    },
    {
      "cell_type": "code",
      "source": [
        "#Diccionarios con tres pares clave-valor\n",
        "dicc_1={'nombre':'Carlos','edad':20,'notas':[8,9,10]}\n",
        "dicc_2={'nombre':'Jorge','edad':25,'notas':[6,7,10]}"
      ],
      "metadata": {
        "id": "S6sJUKPtuQmh"
      },
      "execution_count": null,
      "outputs": []
    },
    {
      "cell_type": "code",
      "source": [
        "#Accedemos a los elementos por clave\n",
        "dicc_1['notas']"
      ],
      "metadata": {
        "colab": {
          "base_uri": "https://localhost:8080/"
        },
        "id": "jzfSf3SxutNf",
        "outputId": "49ed65fb-1ab3-4d97-b8f6-ffff2297668d"
      },
      "execution_count": null,
      "outputs": [
        {
          "output_type": "execute_result",
          "data": {
            "text/plain": [
              "[8, 9, 10]"
            ]
          },
          "metadata": {},
          "execution_count": 40
        }
      ]
    },
    {
      "cell_type": "code",
      "source": [
        "dicc_1['notas'][0]"
      ],
      "metadata": {
        "colab": {
          "base_uri": "https://localhost:8080/"
        },
        "id": "bO1kof3Mux7Z",
        "outputId": "a412c2ba-0bf6-4e95-bfe0-6e43d8ba2ecf"
      },
      "execution_count": null,
      "outputs": [
        {
          "output_type": "execute_result",
          "data": {
            "text/plain": [
              "8"
            ]
          },
          "metadata": {},
          "execution_count": 41
        }
      ]
    },
    {
      "cell_type": "code",
      "source": [
        "dicc_1['edad']<dicc_2['edad']"
      ],
      "metadata": {
        "colab": {
          "base_uri": "https://localhost:8080/"
        },
        "id": "4MV6BXZKuz4o",
        "outputId": "9e7f0ce7-2dde-4339-e155-b65429ec92fa"
      },
      "execution_count": null,
      "outputs": [
        {
          "output_type": "execute_result",
          "data": {
            "text/plain": [
              "True"
            ]
          },
          "metadata": {},
          "execution_count": 42
        }
      ]
    },
    {
      "cell_type": "code",
      "source": [
        "#Asignación\n",
        "dicc_3=dicc_2\n",
        "print(dicc_3)"
      ],
      "metadata": {
        "colab": {
          "base_uri": "https://localhost:8080/"
        },
        "id": "i-SmJcGcvpoO",
        "outputId": "18d1fe2b-73f8-49bf-e469-0011d3126f34"
      },
      "execution_count": null,
      "outputs": [
        {
          "output_type": "stream",
          "name": "stdout",
          "text": [
            "{'nombre': 'Jorge', 'edad': 25, 'notas': [6, 7, 10]}\n"
          ]
        }
      ]
    },
    {
      "cell_type": "code",
      "source": [
        "dicc_2['apellido']='perez'\n",
        "print(dicc_2)"
      ],
      "metadata": {
        "colab": {
          "base_uri": "https://localhost:8080/"
        },
        "id": "Skt-BnUbvvs3",
        "outputId": "5b23344a-1b95-489d-ef73-507c1657e3fc"
      },
      "execution_count": null,
      "outputs": [
        {
          "output_type": "stream",
          "name": "stdout",
          "text": [
            "{'nombre': 'Jorge', 'edad': 25, 'notas': [6, 7, 10], 'apellido': 'perez'}\n"
          ]
        }
      ]
    },
    {
      "cell_type": "code",
      "source": [
        "print(dicc_3)"
      ],
      "metadata": {
        "colab": {
          "base_uri": "https://localhost:8080/"
        },
        "id": "GcOxhvR_w7KP",
        "outputId": "e96041b9-4fd7-41ea-d09e-0aac170e0796"
      },
      "execution_count": null,
      "outputs": [
        {
          "output_type": "stream",
          "name": "stdout",
          "text": [
            "{'nombre': 'Jorge', 'edad': 25, 'notas': [6, 7, 10], 'apellido': 'perez'}\n"
          ]
        }
      ]
    },
    {
      "cell_type": "code",
      "source": [
        "dicc_3=dicc_2.copy()"
      ],
      "metadata": {
        "id": "Bj5yhDqBxCqB"
      },
      "execution_count": null,
      "outputs": []
    },
    {
      "cell_type": "code",
      "source": [
        "dicc_2['profesion']='contador'\n",
        "print(dicc_2)"
      ],
      "metadata": {
        "colab": {
          "base_uri": "https://localhost:8080/"
        },
        "id": "dZSVjskKxLHi",
        "outputId": "c7d815e9-dde9-4ddc-9c16-fa89d7e91916"
      },
      "execution_count": null,
      "outputs": [
        {
          "output_type": "stream",
          "name": "stdout",
          "text": [
            "{'nombre': 'Jorge', 'edad': 25, 'notas': [6, 7, 10], 'apellido': 'perez', 'profesion': 'contador'}\n"
          ]
        }
      ]
    },
    {
      "cell_type": "code",
      "source": [
        "print(dicc_3)"
      ],
      "metadata": {
        "colab": {
          "base_uri": "https://localhost:8080/"
        },
        "id": "bncRjWzuxTds",
        "outputId": "060e5871-9286-42fd-a1e7-0eb03fea9678"
      },
      "execution_count": null,
      "outputs": [
        {
          "output_type": "stream",
          "name": "stdout",
          "text": [
            "{'nombre': 'Jorge', 'edad': 25, 'notas': [6, 7, 10], 'apellido': 'perez'}\n"
          ]
        }
      ]
    },
    {
      "cell_type": "code",
      "source": [
        "#import gc\n",
        "\n",
        "class Animal:\n",
        "    def __init__(self):\n",
        "        print(\"Me creé\")\n",
        "\n",
        "    def __del__(self):\n",
        "        print(\"Me destruí\")\n",
        "\n",
        "\n",
        "perro = Animal()\n",
        "\n",
        "\n",
        "perro  = 1\n",
        "\n",
        "# Forzar la recolección de basura\n",
        "# gc.collect()"
      ],
      "metadata": {
        "colab": {
          "base_uri": "https://localhost:8080/"
        },
        "id": "kATJirK92FcZ",
        "outputId": "1a39df69-2f10-462d-f356-6454ed9bf0f1"
      },
      "execution_count": null,
      "outputs": [
        {
          "output_type": "stream",
          "name": "stdout",
          "text": [
            "Me creé\n",
            "Me destruí\n"
          ]
        }
      ]
    },
    {
      "cell_type": "markdown",
      "metadata": {
        "id": "RmTjNPPO8KqN"
      },
      "source": [
        "## Ejercicios"
      ]
    },
    {
      "cell_type": "markdown",
      "metadata": {
        "id": "WkHUCFht-k-h"
      },
      "source": [
        "1)\n",
        "\n",
        "Escriba un programa que reciba un número del usuario y repita el siguiente proceso usando un while:\n",
        "\n",
        "* Si el numero es par, se debe dividir por  2 .\n",
        "* Si el numero es impar, se debe multiplicar por  3  y sumar  1 .\n",
        "\n",
        "Este proceso se repite hasta llegar al numero  1  y luego muestra en pantalla la cantidad de pasos que tardó en llegar.\n",
        "\n",
        "Ejemplo para  n=6 :\n",
        "\n",
        "6,3,10,5,16,8,4,2,1\n",
        "\n",
        "Resultado = 8"
      ]
    },
    {
      "cell_type": "code",
      "source": [
        "x=int(input(\"Ingrese un número: \"))\n",
        "print(x, end=', ')\n",
        "while x != 1:\n",
        "  if x%2==0:\n",
        "    x=x/2\n",
        "  else:\n",
        "    x=x*3+1\n",
        "  print(x, end=', ')"
      ],
      "metadata": {
        "colab": {
          "base_uri": "https://localhost:8080/"
        },
        "id": "g_3qOzbeD2a_",
        "outputId": "d9fdc856-96e7-4f96-c530-84ff6a9c7f0f"
      },
      "execution_count": null,
      "outputs": [
        {
          "output_type": "stream",
          "name": "stdout",
          "text": [
            "Ingrese un número: 6\n",
            "6, 3.0, 10.0, 5.0, 16.0, 8.0, 4.0, 2.0, "
          ]
        }
      ]
    },
    {
      "cell_type": "markdown",
      "metadata": {
        "id": "1NOlTqaI-_FZ"
      },
      "source": [
        "2)\n",
        "\n",
        "a) Escribir una función que calcule el promedio de 3 notas y entrege ese valor usando return.\n",
        "\n",
        "b) Reescribir la función anterior modificandola para asignar una importancia al primer examen de 20%, al segundo de 50% y al tercero de 30%.\n",
        "\n",
        "b)Llamar a cada función anterior 3 veces con distintas notas y verificar, mediante la instrucción if, si el alumno aprobó en cada caso (suponga que 4 es la nota de aprobación)."
      ]
    },
    {
      "cell_type": "code",
      "source": [
        "#metodo 1: más sencillo\n",
        "nota1=int(input(\"Nota1: \"))\n",
        "nota2=int(input(\"Nota2: \"))\n",
        "nota3=int(input(\"Nota3: \"))\n",
        "prom=(nota1+nota2+nota3)/3\n",
        "prom2=(20*nota1+50*nota2+30*nota3)/100\n",
        "print('promedio: ', prom)\n",
        "print('P. ponderado: ', prom2)"
      ],
      "metadata": {
        "id": "P4oG9oXhcdSQ"
      },
      "execution_count": null,
      "outputs": []
    },
    {
      "cell_type": "code",
      "source": [
        "import random\n",
        "notas = []\n",
        "suma=0\n",
        "for i in range (0, 3):\n",
        "  notas.append(random.randint(0,10))\n",
        "  suma=suma+notas[i]\n",
        "prom=round(suma/3, 2)\n",
        "if prom>4:\n",
        "  crit=\"Aprobado\"\n",
        "else:\n",
        "  crit=\"Desaprobado\"\n",
        "\n",
        "print(\"Las notas del alumno son: \", notas)\n",
        "print(\"El promedio es: \", prom, \"Condición: \", crit)\n"
      ],
      "metadata": {
        "colab": {
          "base_uri": "https://localhost:8080/"
        },
        "id": "vUoEOECaEhpW",
        "outputId": "c7f0052d-fd60-4db2-a37f-977d6fdda50c"
      },
      "execution_count": null,
      "outputs": [
        {
          "output_type": "stream",
          "name": "stdout",
          "text": [
            "Las notas del alumno son:  [0, 3, 3]\n",
            "El promedio es:  2.0 Condición:  Desaprobado\n"
          ]
        }
      ]
    },
    {
      "cell_type": "code",
      "source": [
        "alum_1={'nombre': 'Pedro', 'notas': [5, 8, 7] }\n",
        "alum_2={'nombre': 'Laura', 'notas': [1, 5, 3] }\n",
        "alum_3={'nombre': 'Jorge', 'notas': [8, 2, 6] }\n",
        "alumnos=[alum_1, alum_2, alum_3]\n",
        "\n",
        "def promedio(notas):\n",
        "  suma=0\n",
        "  for i in range (0, len(notas)):\n",
        "    suma=suma+notas[i]\n",
        "  prom=round(suma/len(notas), 2)\n",
        "  return prom\n",
        "\n",
        "def criterio_notas(x):\n",
        "  if(x<4):\n",
        "    criterio=\"Desaprobado\"\n",
        "  else:\n",
        "    criterio=\"Aprobado\"\n",
        "  return criterio\n",
        "\n",
        "for alum in alumnos:\n",
        "  alum.update({'promedio': promedio(alum['notas'])})\n",
        "  alum.update({'criterio': criterio_notas(alum['promedio'])})\n",
        "\n",
        "for i in range (0, len(alumnos)):\n",
        "  print(alumnos[i], '\\n')\n"
      ],
      "metadata": {
        "colab": {
          "base_uri": "https://localhost:8080/"
        },
        "id": "3tqqoAR-coPK",
        "outputId": "8a09d209-18e9-42c8-be6e-8e521be57475"
      },
      "execution_count": 17,
      "outputs": [
        {
          "output_type": "stream",
          "name": "stdout",
          "text": [
            "{'nombre': 'Pedro', 'notas': [5, 8, 7], 'promedio': 6.67, 'criterio': 'Aprobado'} \n",
            "\n",
            "{'nombre': 'Laura', 'notas': [1, 5, 3], 'promedio': 3.0, 'criterio': 'Desaprobado'} \n",
            "\n",
            "{'nombre': 'Jorge', 'notas': [8, 2, 6], 'promedio': 5.33, 'criterio': 'Aprobado'} \n",
            "\n"
          ]
        }
      ]
    },
    {
      "cell_type": "markdown",
      "source": [
        "3)\n",
        "\n",
        "Implementar las funciones getMin, getMax y computeMean para que el siguiente programa pueda ejecutarse correctamente:\n",
        "\n",
        "    valores = [23,4,67,32,13]\n",
        "    print(\"El mínimo valor es: \", getMin(valores))\n",
        "    print(\"El máximo valor es: \", getMax(valores))\n",
        "    print(\"El promedio es: \", computeMean(valores))\n",
        "\n",
        "\n",
        "Las funciones no deben modificar el contenido de la lista."
      ],
      "metadata": {
        "id": "whBvnGu4PAny"
      }
    },
    {
      "cell_type": "code",
      "source": [
        "valores = []\n",
        "valores = [23,4,67,32,13]\n",
        "def getMin(x):\n",
        "  min=valores[0]\n",
        "  for i in range (0, 5):\n",
        "    if x[i]<min:\n",
        "      min=x[i]\n",
        "  return min\n",
        "print(\"El mínimo valor es: \", getMin(valores))\n",
        "\n",
        "def getMax(x):\n",
        "  max=valores[0]\n",
        "  for i in range (0, 5):\n",
        "    if x[i]>max:\n",
        "      max=x[i]\n",
        "  return max\n",
        "print(\"El máximo valor es: \", getMax(valores))\n",
        "\n",
        "def computeMean(x):\n",
        "  suma=0\n",
        "  for i in range (0, 5):\n",
        "    suma= suma+ x[i]\n",
        "  prom= suma/5\n",
        "  return prom\n",
        "print(\"El promedio es: \", computeMean(valores))"
      ],
      "metadata": {
        "id": "llr8MXYaPFBX",
        "colab": {
          "base_uri": "https://localhost:8080/"
        },
        "outputId": "525083b0-a4a9-4331-c9f1-caf7c4016ad4"
      },
      "execution_count": null,
      "outputs": [
        {
          "output_type": "stream",
          "name": "stdout",
          "text": [
            "El mínimo valor es:  4\n",
            "El máximo valor es:  67\n",
            "El promedio es:  27.8\n"
          ]
        }
      ]
    }
  ]
}