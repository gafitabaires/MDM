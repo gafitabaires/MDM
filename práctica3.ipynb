{
  "nbformat": 4,
  "nbformat_minor": 0,
  "metadata": {
    "colab": {
      "provenance": [],
      "collapsed_sections": [
        "oDkBPC4rMD8v",
        "Fm_1kH9rY6t2",
        "Y98G7O6kQrL2",
        "4J3wi0FwY7l2",
        "m0qbdIGDKcUe",
        "Rgd33nFaKltV"
      ],
      "include_colab_link": true
    },
    "kernelspec": {
      "name": "python3",
      "display_name": "Python 3"
    },
    "language_info": {
      "name": "python"
    }
  },
  "cells": [
    {
      "cell_type": "markdown",
      "metadata": {
        "id": "view-in-github",
        "colab_type": "text"
      },
      "source": [
        "<a href=\"https://colab.research.google.com/github/gafitabaires/MDM/blob/main/pr%C3%A1ctica3.ipynb\" target=\"_parent\"><img src=\"https://colab.research.google.com/assets/colab-badge.svg\" alt=\"Open In Colab\"/></a>"
      ]
    },
    {
      "cell_type": "markdown",
      "metadata": {
        "id": "Lxw26PeKKZdI"
      },
      "source": [
        "# <center>Maestría en Explotación de Datos y Descubrimiento del Conocimiento</center>\n",
        "## <center>FCEN - UBA</center>\n",
        "## <center>Curso de Nivelación de Algoritmos 2025</center>\n",
        "\n",
        "### <center>Clase Práctica 3</center>"
      ]
    },
    {
      "cell_type": "markdown",
      "source": [
        "##Ejemplos Clase teórica"
      ],
      "metadata": {
        "id": "63polF4wZg7S"
      }
    },
    {
      "cell_type": "markdown",
      "metadata": {
        "id": "cVek5FUOsE-Q"
      },
      "source": [
        "### Ejemplo 1.1"
      ]
    },
    {
      "cell_type": "code",
      "metadata": {
        "id": "IzY1d0QUpVvt"
      },
      "source": [
        "def func1(A):\n",
        "  RV = 0\n",
        "  i = 0\n",
        "\n",
        "  while i < len(A):\n",
        "    j = 0\n",
        "    sumaAnteriores = 0\n",
        "    while j < i:\n",
        "      sumaAnteriores = sumaAnteriores + A[j]\n",
        "      j = j + 1\n",
        "    if sumaAnteriores == A[i]:\n",
        "      RV = RV +1\n",
        "    i = i + 1\n",
        "\n",
        "  return RV"
      ],
      "execution_count": null,
      "outputs": []
    },
    {
      "cell_type": "code",
      "metadata": {
        "id": "KPE943zQtPja",
        "colab": {
          "base_uri": "https://localhost:8080/"
        },
        "outputId": "9534b646-9607-4cc7-cded-1029ec3d5153"
      },
      "source": [
        "lista =[1, 0, 1, 0, 2, 4]\n",
        "print(func1(lista))"
      ],
      "execution_count": null,
      "outputs": [
        {
          "output_type": "stream",
          "name": "stdout",
          "text": [
            "3\n"
          ]
        }
      ]
    },
    {
      "cell_type": "code",
      "source": [
        "lista =[1]\n",
        "print(func1(lista))"
      ],
      "metadata": {
        "id": "OrfGxNOd0Iz-",
        "colab": {
          "base_uri": "https://localhost:8080/"
        },
        "outputId": "e51300c5-aee2-4a78-c169-e01a6b98dc9b"
      },
      "execution_count": null,
      "outputs": [
        {
          "output_type": "stream",
          "name": "stdout",
          "text": [
            "0\n"
          ]
        }
      ]
    },
    {
      "cell_type": "code",
      "source": [
        "lista =[1,0,1]\n",
        "print(func1(lista))"
      ],
      "metadata": {
        "id": "G6UPKN4W0OAe",
        "colab": {
          "base_uri": "https://localhost:8080/"
        },
        "outputId": "2a475713-355a-4779-bf4a-68546889f87d"
      },
      "execution_count": null,
      "outputs": [
        {
          "output_type": "stream",
          "name": "stdout",
          "text": [
            "1\n"
          ]
        }
      ]
    },
    {
      "cell_type": "code",
      "source": [
        "lista =[0,1,2]\n",
        "print(func1(lista))"
      ],
      "metadata": {
        "colab": {
          "base_uri": "https://localhost:8080/"
        },
        "id": "BE4G_847So9w",
        "outputId": "00b2a756-81b8-4c87-e1a6-df12e327451b"
      },
      "execution_count": null,
      "outputs": [
        {
          "output_type": "stream",
          "name": "stdout",
          "text": [
            "1\n"
          ]
        }
      ]
    },
    {
      "cell_type": "code",
      "source": [
        "lista =[1, 0, 1, 0, 2]\n",
        "print(func1(lista))"
      ],
      "metadata": {
        "id": "TTifevB70Qju",
        "colab": {
          "base_uri": "https://localhost:8080/"
        },
        "outputId": "ee371a6d-cbf2-4c31-eb6e-4368ff6014ea"
      },
      "execution_count": null,
      "outputs": [
        {
          "output_type": "stream",
          "name": "stdout",
          "text": [
            "2\n"
          ]
        }
      ]
    },
    {
      "cell_type": "code",
      "source": [
        "lista =[1, 0, 1, 0, 2, 4]\n",
        "print(func1(lista))"
      ],
      "metadata": {
        "id": "kzuwJFNJcrtV",
        "colab": {
          "base_uri": "https://localhost:8080/"
        },
        "outputId": "de62bf75-78da-4db4-d843-90187e8c211a"
      },
      "execution_count": null,
      "outputs": [
        {
          "output_type": "stream",
          "name": "stdout",
          "text": [
            "3\n"
          ]
        }
      ]
    },
    {
      "cell_type": "code",
      "source": [
        "lista =[1, 0, 1, 0, 4, 2]\n",
        "print(func1(lista))"
      ],
      "metadata": {
        "colab": {
          "base_uri": "https://localhost:8080/"
        },
        "id": "0N47w3I6RHca",
        "outputId": "7cff978e-ae94-45b5-efae-a48fcabe6239"
      },
      "execution_count": null,
      "outputs": [
        {
          "output_type": "stream",
          "name": "stdout",
          "text": [
            "1\n"
          ]
        }
      ]
    },
    {
      "cell_type": "markdown",
      "metadata": {
        "id": "xPWV3lmotft7"
      },
      "source": [
        "### Ejemplo 1.2"
      ]
    },
    {
      "cell_type": "code",
      "metadata": {
        "id": "wd1lcSaAto_C"
      },
      "source": [
        "def func2(A):\n",
        "  RV = 0\n",
        "  i = 0\n",
        "  sumaAnteriores = 0\n",
        "  while i < len(A):\n",
        "    if sumaAnteriores==A[i]:\n",
        "      RV = RV + 1\n",
        "    sumaAnteriores = sumaAnteriores + A[i]\n",
        "    i = i + 1\n",
        "\n",
        "  return RV"
      ],
      "execution_count": null,
      "outputs": []
    },
    {
      "cell_type": "code",
      "source": [
        "lista =[1, 0, 1, 0, 2, 4]\n",
        "func2(lista)"
      ],
      "metadata": {
        "id": "q6PiivAlEGJ7",
        "colab": {
          "base_uri": "https://localhost:8080/"
        },
        "outputId": "449b6a08-fcc3-4182-c4dd-9c096e12b781"
      },
      "execution_count": null,
      "outputs": [
        {
          "output_type": "execute_result",
          "data": {
            "text/plain": [
              "3"
            ]
          },
          "metadata": {},
          "execution_count": 10
        }
      ]
    },
    {
      "cell_type": "markdown",
      "source": [
        "### Diccionarios"
      ],
      "metadata": {
        "id": "_FnG6ImhsTpK"
      }
    },
    {
      "cell_type": "code",
      "source": [
        "#Diccionario Vacio\n",
        "un_diccionario = {}"
      ],
      "metadata": {
        "id": "K--dE4nZsWfd"
      },
      "execution_count": null,
      "outputs": []
    },
    {
      "cell_type": "code",
      "source": [
        "#Tipo de dato\n",
        "type(un_diccionario)"
      ],
      "metadata": {
        "id": "Sgf6eiOvtq3k",
        "colab": {
          "base_uri": "https://localhost:8080/"
        },
        "outputId": "ae93a73c-bf76-4113-9bd5-33aa027d43da"
      },
      "execution_count": null,
      "outputs": [
        {
          "output_type": "execute_result",
          "data": {
            "text/plain": [
              "dict"
            ]
          },
          "metadata": {},
          "execution_count": 12
        }
      ]
    },
    {
      "cell_type": "code",
      "source": [
        "#diccionario con dos elementos\n",
        "otro_diccionario = {'nombre': 'pepe', \"edad\": 3}"
      ],
      "metadata": {
        "id": "1WH9q0-0tulM"
      },
      "execution_count": null,
      "outputs": []
    },
    {
      "cell_type": "code",
      "source": [
        "#Cantidad de elementos\n",
        "len(otro_diccionario)"
      ],
      "metadata": {
        "id": "O94Rc7ECx3kp",
        "colab": {
          "base_uri": "https://localhost:8080/"
        },
        "outputId": "3965d117-5cfc-4fd1-b65a-da8ff8878a6c"
      },
      "execution_count": null,
      "outputs": [
        {
          "output_type": "execute_result",
          "data": {
            "text/plain": [
              "2"
            ]
          },
          "metadata": {},
          "execution_count": 14
        }
      ]
    },
    {
      "cell_type": "code",
      "source": [
        "#Accedemos a los elementos por clave\n",
        "otro_diccionario['nombre']"
      ],
      "metadata": {
        "id": "XXd6p4igtuVq",
        "colab": {
          "base_uri": "https://localhost:8080/",
          "height": 35
        },
        "outputId": "c3aa0422-becd-4612-8d41-a07ea0272211"
      },
      "execution_count": null,
      "outputs": [
        {
          "output_type": "execute_result",
          "data": {
            "text/plain": [
              "'pepe'"
            ],
            "application/vnd.google.colaboratory.intrinsic+json": {
              "type": "string"
            }
          },
          "metadata": {},
          "execution_count": 15
        }
      ]
    },
    {
      "cell_type": "code",
      "source": [
        "#Accedemos a los elementos por clave\n",
        "otro_diccionario['edad']"
      ],
      "metadata": {
        "id": "trMNOGX-uIdl",
        "colab": {
          "base_uri": "https://localhost:8080/"
        },
        "outputId": "f0f2eb1e-0f3a-4bff-f6cd-c4118f43fa7c"
      },
      "execution_count": null,
      "outputs": [
        {
          "output_type": "execute_result",
          "data": {
            "text/plain": [
              "3"
            ]
          },
          "metadata": {},
          "execution_count": 16
        }
      ]
    },
    {
      "cell_type": "code",
      "source": [
        "#Creo una nueva clave para el diccionario\n",
        "otro_diccionario['apellido']='perez'\n",
        "print(otro_diccionario)"
      ],
      "metadata": {
        "id": "3lA030edwAVW",
        "colab": {
          "base_uri": "https://localhost:8080/"
        },
        "outputId": "db6bbaef-9830-44a4-899e-705260fcb122"
      },
      "execution_count": null,
      "outputs": [
        {
          "output_type": "stream",
          "name": "stdout",
          "text": [
            "{'nombre': 'pepe', 'edad': 3, 'apellido': 'perez'}\n"
          ]
        }
      ]
    },
    {
      "cell_type": "code",
      "source": [
        "#Diccionarios con tres pares clave-valor\n",
        "dicc_1={'nombre':'Carlos','edad':20,'notas':[8,9,10]}\n",
        "dicc_2={'nombre':'Jorge','edad':25,'notas':[6,7,10]}"
      ],
      "metadata": {
        "id": "S6sJUKPtuQmh"
      },
      "execution_count": null,
      "outputs": []
    },
    {
      "cell_type": "code",
      "source": [
        "#Accedemos a los elementos por clave\n",
        "dicc_1['notas']"
      ],
      "metadata": {
        "id": "jzfSf3SxutNf",
        "colab": {
          "base_uri": "https://localhost:8080/"
        },
        "outputId": "376e8f6f-8de7-4fe3-9ec9-2df9381734fb"
      },
      "execution_count": null,
      "outputs": [
        {
          "output_type": "execute_result",
          "data": {
            "text/plain": [
              "[8, 9, 10]"
            ]
          },
          "metadata": {},
          "execution_count": 19
        }
      ]
    },
    {
      "cell_type": "code",
      "source": [
        "dicc_1['notas'][0]"
      ],
      "metadata": {
        "id": "bO1kof3Mux7Z",
        "colab": {
          "base_uri": "https://localhost:8080/"
        },
        "outputId": "2bdc95de-353b-4940-d9df-ebe497d8f880"
      },
      "execution_count": null,
      "outputs": [
        {
          "output_type": "execute_result",
          "data": {
            "text/plain": [
              "8"
            ]
          },
          "metadata": {},
          "execution_count": 20
        }
      ]
    },
    {
      "cell_type": "code",
      "source": [
        "dicc_1['edad']<dicc_2['edad']"
      ],
      "metadata": {
        "id": "4MV6BXZKuz4o",
        "colab": {
          "base_uri": "https://localhost:8080/"
        },
        "outputId": "4f6d2e14-17e5-44cf-b802-036e8445c5a4"
      },
      "execution_count": null,
      "outputs": [
        {
          "output_type": "execute_result",
          "data": {
            "text/plain": [
              "True"
            ]
          },
          "metadata": {},
          "execution_count": 21
        }
      ]
    },
    {
      "cell_type": "code",
      "source": [
        "#Asignación\n",
        "dicc_3=dicc_2\n",
        "print(dicc_3)"
      ],
      "metadata": {
        "id": "i-SmJcGcvpoO",
        "colab": {
          "base_uri": "https://localhost:8080/"
        },
        "outputId": "684688f0-be0c-4b96-caed-98ea6b807d14"
      },
      "execution_count": null,
      "outputs": [
        {
          "output_type": "stream",
          "name": "stdout",
          "text": [
            "{'nombre': 'Jorge', 'edad': 25, 'notas': [6, 7, 10]}\n"
          ]
        }
      ]
    },
    {
      "cell_type": "code",
      "source": [
        "dicc_2['apellido']='perez'\n",
        "print(dicc_2)"
      ],
      "metadata": {
        "id": "Skt-BnUbvvs3",
        "colab": {
          "base_uri": "https://localhost:8080/"
        },
        "outputId": "548e8f71-3f90-4906-9825-9369befa6ac3"
      },
      "execution_count": null,
      "outputs": [
        {
          "output_type": "stream",
          "name": "stdout",
          "text": [
            "{'nombre': 'Jorge', 'edad': 25, 'notas': [6, 7, 10], 'apellido': 'perez'}\n"
          ]
        }
      ]
    },
    {
      "cell_type": "code",
      "source": [
        "print(dicc_3)"
      ],
      "metadata": {
        "id": "GcOxhvR_w7KP",
        "colab": {
          "base_uri": "https://localhost:8080/"
        },
        "outputId": "e188ef3c-052c-4541-e22b-79d83ef9be0a"
      },
      "execution_count": null,
      "outputs": [
        {
          "output_type": "stream",
          "name": "stdout",
          "text": [
            "{'nombre': 'Jorge', 'edad': 25, 'notas': [6, 7, 10], 'apellido': 'perez'}\n"
          ]
        }
      ]
    },
    {
      "cell_type": "code",
      "source": [
        "dicc_3=dicc_2.copy()"
      ],
      "metadata": {
        "id": "Bj5yhDqBxCqB"
      },
      "execution_count": null,
      "outputs": []
    },
    {
      "cell_type": "code",
      "source": [
        "dicc_2['profesion']='contador'\n",
        "print(dicc_2)"
      ],
      "metadata": {
        "id": "dZSVjskKxLHi",
        "colab": {
          "base_uri": "https://localhost:8080/"
        },
        "outputId": "a900cc3f-a3e9-4ea8-912a-bdd5164c93d3"
      },
      "execution_count": null,
      "outputs": [
        {
          "output_type": "stream",
          "name": "stdout",
          "text": [
            "{'nombre': 'Jorge', 'edad': 25, 'notas': [6, 7, 10], 'apellido': 'perez', 'profesion': 'contador'}\n"
          ]
        }
      ]
    },
    {
      "cell_type": "code",
      "source": [
        "print(dicc_3)"
      ],
      "metadata": {
        "id": "bncRjWzuxTds",
        "colab": {
          "base_uri": "https://localhost:8080/"
        },
        "outputId": "efef5705-6e2b-4b2b-af7a-a86a510795e3"
      },
      "execution_count": null,
      "outputs": [
        {
          "output_type": "stream",
          "name": "stdout",
          "text": [
            "{'nombre': 'Jorge', 'edad': 25, 'notas': [6, 7, 10], 'apellido': 'perez'}\n"
          ]
        }
      ]
    },
    {
      "cell_type": "markdown",
      "source": [
        "### Tiempo de Ejecución"
      ],
      "metadata": {
        "id": "-K_sWiOFxgtJ"
      }
    },
    {
      "cell_type": "markdown",
      "source": [
        "Vamos a utilizar la libreria time de python, para conocer el tiempo en segundos que consume cada función del ejemplo anterior.\n",
        "\n",
        "https://docs.python.org/3/library/time.html"
      ],
      "metadata": {
        "id": "Av60G9znzUTD"
      }
    },
    {
      "cell_type": "code",
      "source": [
        "#Importamos la libreria time\n",
        "import time\n",
        "\n",
        "#inicia cronometro\n",
        "ini = time.time()\n",
        "\n",
        "#ejecuta instrucción\n",
        "print(\"hola\")\n",
        "\n",
        "#finaliza cronometro\n",
        "fin = time.time()\n",
        "\n",
        "#imprime tiempo de procesamiento\n",
        "print('Tiempo de procesamiento: ', fin - ini)"
      ],
      "metadata": {
        "id": "sHY48JzIqeY4",
        "colab": {
          "base_uri": "https://localhost:8080/"
        },
        "outputId": "1f74b572-dda4-419e-a84e-faf78b9fb22b"
      },
      "execution_count": null,
      "outputs": [
        {
          "output_type": "stream",
          "name": "stdout",
          "text": [
            "hola\n",
            "Tiempo de procesamiento:  0.0001742839813232422\n"
          ]
        }
      ]
    },
    {
      "cell_type": "markdown",
      "source": [
        "Comparemos el tiempo de ejecución de las funciones func1 y func2 para un mismo tamaño de entrada (cantidad de elementos de la lista)"
      ],
      "metadata": {
        "id": "na62cX88x0Vn"
      }
    },
    {
      "cell_type": "code",
      "source": [
        "lista =[0, 0, 5, 0, 0, 5, 10, 20, 6]\n",
        "print(len(lista))"
      ],
      "metadata": {
        "id": "tD026tQfvI4y",
        "colab": {
          "base_uri": "https://localhost:8080/"
        },
        "outputId": "dd1c052d-749a-403b-dc5b-beec659b8ed7"
      },
      "execution_count": null,
      "outputs": [
        {
          "output_type": "stream",
          "name": "stdout",
          "text": [
            "9\n"
          ]
        }
      ]
    },
    {
      "cell_type": "code",
      "source": [
        "ini=time.time()\n",
        "func1(lista)\n",
        "fin = time.time()\n",
        "print('tiempo de procesamiento: ', round(fin - ini, 5))"
      ],
      "metadata": {
        "id": "uY8pn5pIvSAs",
        "colab": {
          "base_uri": "https://localhost:8080/"
        },
        "outputId": "ec85b2f0-3f42-44f0-ac1d-e8393e9d77a3"
      },
      "execution_count": null,
      "outputs": [
        {
          "output_type": "stream",
          "name": "stdout",
          "text": [
            "tiempo de procesamiento:  7e-05\n"
          ]
        }
      ]
    },
    {
      "cell_type": "code",
      "source": [
        "ini=time.time()\n",
        "func2(lista)\n",
        "fin = time.time()\n",
        "print('tiempo de procesamiento: ', round(fin - ini,5))"
      ],
      "metadata": {
        "id": "gpxTPXKsvY5o",
        "colab": {
          "base_uri": "https://localhost:8080/"
        },
        "outputId": "64e59354-569d-42a7-b52a-3044941d398f"
      },
      "execution_count": null,
      "outputs": [
        {
          "output_type": "stream",
          "name": "stdout",
          "text": [
            "tiempo de procesamiento:  0.00019\n"
          ]
        }
      ]
    },
    {
      "cell_type": "markdown",
      "source": [
        "Comparemos el tiempo de ejecución de las funciones func1 y func2 si aumentamos el tamaño de mismo la entrada (cantidad de elementos de la lista)"
      ],
      "metadata": {
        "id": "05rXq4KIx7t8"
      }
    },
    {
      "cell_type": "code",
      "source": [
        "lista =[0, 0, 5, 0, 0, 5, 10, 20, 6]*100\n",
        "print(len(lista))"
      ],
      "metadata": {
        "id": "3HJlAMT5yT-_",
        "colab": {
          "base_uri": "https://localhost:8080/"
        },
        "outputId": "950e49c7-afa0-44ab-a9d1-9b4bc97e0b71"
      },
      "execution_count": null,
      "outputs": [
        {
          "output_type": "stream",
          "name": "stdout",
          "text": [
            "900\n"
          ]
        }
      ]
    },
    {
      "cell_type": "code",
      "source": [
        "ini=time.time()\n",
        "func1(lista)\n",
        "fin = time.time()\n",
        "print('tiempo de procesamiento: ', fin - ini)"
      ],
      "metadata": {
        "id": "XH39pdYOyJ8v",
        "colab": {
          "base_uri": "https://localhost:8080/"
        },
        "outputId": "46b6ae2d-0a14-459f-899a-314af9446d7d"
      },
      "execution_count": null,
      "outputs": [
        {
          "output_type": "stream",
          "name": "stdout",
          "text": [
            "tiempo de procesamiento:  0.051016807556152344\n"
          ]
        }
      ]
    },
    {
      "cell_type": "code",
      "source": [
        "ini=time.time()\n",
        "func2(lista)\n",
        "fin = time.time()\n",
        "print('tiempo de procesamiento: ', fin - ini)"
      ],
      "metadata": {
        "id": "mxWE5zmeyZ81",
        "colab": {
          "base_uri": "https://localhost:8080/"
        },
        "outputId": "89607201-598d-490e-a28c-db90c1c7b70d"
      },
      "execution_count": null,
      "outputs": [
        {
          "output_type": "stream",
          "name": "stdout",
          "text": [
            "tiempo de procesamiento:  0.00017070770263671875\n"
          ]
        }
      ]
    },
    {
      "cell_type": "markdown",
      "source": [
        "##Algoritmos de Búsqueda"
      ],
      "metadata": {
        "id": "QalK9K-bZPVT"
      }
    },
    {
      "cell_type": "markdown",
      "source": [
        "### Búsqueda Lineal"
      ],
      "metadata": {
        "id": "oDkBPC4rMD8v"
      }
    },
    {
      "cell_type": "code",
      "source": [
        "def busqueda_lineal(lista, elemento):\n",
        "  pos  = -1\n",
        "  j    = 0\n",
        "\n",
        "  while (j < len(lista)):\n",
        "    if (lista[j] == elemento):\n",
        "      pos  = j\n",
        "    j = j+1\n",
        "\n",
        "  return pos"
      ],
      "metadata": {
        "id": "R43-8_FQZS0C"
      },
      "execution_count": null,
      "outputs": []
    },
    {
      "cell_type": "code",
      "source": [
        "#Si el elemento está en la lista, devuelve su posición\n",
        "lista =[20, 10, 5, 0, 18, 3, 55, 11, 6]\n",
        "posicion = busqueda_lineal(lista, 0)\n",
        "print(posicion)"
      ],
      "metadata": {
        "colab": {
          "base_uri": "https://localhost:8080/"
        },
        "id": "47-aK3NkMLo2",
        "outputId": "712feee2-9c5d-457c-906b-cc4c39f82eab"
      },
      "execution_count": null,
      "outputs": [
        {
          "output_type": "stream",
          "name": "stdout",
          "text": [
            "3\n"
          ]
        }
      ]
    },
    {
      "cell_type": "code",
      "source": [
        "#Si el elemento no está en la lista, devuelve -1\n",
        "lista =[20, 10, 5, 0, 18, 3, 55, 11, 6]\n",
        "posicion = busqueda_lineal(lista, 2)\n",
        "print(posicion)"
      ],
      "metadata": {
        "colab": {
          "base_uri": "https://localhost:8080/"
        },
        "id": "i2uYh8pX0SzG",
        "outputId": "945d404f-d414-4e6e-d913-0c31672197a4"
      },
      "execution_count": null,
      "outputs": [
        {
          "output_type": "stream",
          "name": "stdout",
          "text": [
            "-1\n"
          ]
        }
      ]
    },
    {
      "cell_type": "markdown",
      "source": [
        "Veamos cuantas comparaciones realiza el alogritmo:"
      ],
      "metadata": {
        "id": "_7WRwnf90h7b"
      }
    },
    {
      "cell_type": "code",
      "source": [
        "def busqueda_lineal_2(lista, elemento):\n",
        "  pos  = -1\n",
        "  j    = 0\n",
        "  comp = 0\n",
        "\n",
        "  while (j < len(lista)):\n",
        "    comp=comp+1\n",
        "\n",
        "    if (lista[j] == elemento):\n",
        "      pos  = j\n",
        "\n",
        "    j = j+1\n",
        "\n",
        "  return pos,comp"
      ],
      "metadata": {
        "id": "i1YbOIXs0hcO"
      },
      "execution_count": null,
      "outputs": []
    },
    {
      "cell_type": "code",
      "source": [
        "lista =[20, 10, 5, 0, 18, 3, 55, 11, 6]\n",
        "posicion,comparaciones=busqueda_lineal_2(lista, 20)\n",
        "print(f'posicion:{posicion}\\ncomparaciones:{comparaciones}')"
      ],
      "metadata": {
        "colab": {
          "base_uri": "https://localhost:8080/"
        },
        "id": "cDoaR0mP04CT",
        "outputId": "de4350ba-9f44-4c2f-9f95-04b902d5e2f5"
      },
      "execution_count": null,
      "outputs": [
        {
          "output_type": "stream",
          "name": "stdout",
          "text": [
            "posicion:0\n",
            "comparaciones:9\n"
          ]
        }
      ]
    },
    {
      "cell_type": "code",
      "source": [
        "posicion,comparaciones=busqueda_lineal_2(lista, 6)\n",
        "print(f'posicion:{posicion}\\ncomparaciones:{comparaciones}')"
      ],
      "metadata": {
        "colab": {
          "base_uri": "https://localhost:8080/"
        },
        "id": "Dv8iNTWS3MTG",
        "outputId": "a354ea55-b50b-4ef3-f692-658f0a9de4e4"
      },
      "execution_count": null,
      "outputs": [
        {
          "output_type": "stream",
          "name": "stdout",
          "text": [
            "posicion:8\n",
            "comparaciones:9\n"
          ]
        }
      ]
    },
    {
      "cell_type": "markdown",
      "source": [
        "¿Podríamos dejar de hacer comparaciones si ya encontramos el elemento?"
      ],
      "metadata": {
        "id": "TxiAvvf14JUM"
      }
    },
    {
      "cell_type": "code",
      "source": [
        "def busqueda_lineal_3(lista, elemento):\n",
        "  pos  = -1\n",
        "  j    = 0\n",
        "  esta=False\n",
        "  comp=0\n",
        "  while (j < len(lista)) and (not esta) :\n",
        "\n",
        "    comp+=1\n",
        "    if (lista[j] == elemento):\n",
        "      pos  = j\n",
        "      esta=True\n",
        "\n",
        "    j = j+1\n",
        "\n",
        "  return pos,comp"
      ],
      "metadata": {
        "id": "OCbNg_WD4Pgr"
      },
      "execution_count": null,
      "outputs": []
    },
    {
      "cell_type": "code",
      "source": [
        "posicion,comparaciones=busqueda_lineal_3(lista, 20)\n",
        "print(f'posicion: {posicion}\\ncomparaciones: {comparaciones}')"
      ],
      "metadata": {
        "colab": {
          "base_uri": "https://localhost:8080/"
        },
        "id": "vlHDpwyY5D4J",
        "outputId": "575c7bb2-0f36-4a02-9689-188dea026f52"
      },
      "execution_count": null,
      "outputs": [
        {
          "output_type": "stream",
          "name": "stdout",
          "text": [
            "posicion: 0\n",
            "comparaciones: 1\n"
          ]
        }
      ]
    },
    {
      "cell_type": "code",
      "source": [
        "posicion,comparaciones=busqueda_lineal_3(lista, 6)\n",
        "print(f'posicion: {posicion}\\ncomparaciones: {comparaciones}')"
      ],
      "metadata": {
        "colab": {
          "base_uri": "https://localhost:8080/"
        },
        "id": "vAcZMMAJ5SBX",
        "outputId": "6e86704e-f91f-4a44-c968-41e30d57fa81"
      },
      "execution_count": null,
      "outputs": [
        {
          "output_type": "stream",
          "name": "stdout",
          "text": [
            "posicion: 8\n",
            "comparaciones: 9\n"
          ]
        }
      ]
    },
    {
      "cell_type": "markdown",
      "source": [
        "Estas modificaciones nos permiten ahorrar tiempo de ejecución pero no cambia el orden en el peor caso (cuándo el elemento no está en la lista o está en la última posición)"
      ],
      "metadata": {
        "id": "dAsJfAd9EqgY"
      }
    },
    {
      "cell_type": "markdown",
      "source": [
        "### Búsqueda Binaria"
      ],
      "metadata": {
        "id": "fe08djUoMsF1"
      }
    },
    {
      "cell_type": "code",
      "source": [
        "def busqueda_binaria(lista, elemento):\n",
        "  esta, pos = False, -1\n",
        "  izq, der  = 0, len(lista)-1\n",
        "\n",
        "  while (izq < der):\n",
        "    med = (izq + der) // 2\n",
        "    if (lista[med] < elemento):\n",
        "      izq = med + 1\n",
        "    else:\n",
        "      der = med\n",
        "\n",
        "  if (len(lista) != 0 and lista[izq] == elemento):\n",
        "    esta, pos = True, izq\n",
        "\n",
        "  return (esta, pos)"
      ],
      "metadata": {
        "id": "EOJNnIQ8Mw1e"
      },
      "execution_count": null,
      "outputs": []
    },
    {
      "cell_type": "code",
      "source": [
        "lista =[3, 5, 11, 15, 18, 20, 55, 87]\n",
        "\n",
        "x = busqueda_binaria(lista, 18)\n",
        "print(x)"
      ],
      "metadata": {
        "id": "sUs0p8qTM5qM",
        "colab": {
          "base_uri": "https://localhost:8080/"
        },
        "outputId": "03e585c4-78d9-4461-b98a-c46bb3cb228d"
      },
      "execution_count": null,
      "outputs": [
        {
          "output_type": "stream",
          "name": "stdout",
          "text": [
            "(True, 4)\n"
          ]
        }
      ]
    },
    {
      "cell_type": "code",
      "source": [
        "x = busqueda_binaria(lista, 1)\n",
        "print(x)"
      ],
      "metadata": {
        "id": "16I8sJ31523N",
        "colab": {
          "base_uri": "https://localhost:8080/"
        },
        "outputId": "7624933a-d188-452a-ae2b-474636e39fce"
      },
      "execution_count": null,
      "outputs": [
        {
          "output_type": "stream",
          "name": "stdout",
          "text": [
            "(False, -1)\n"
          ]
        }
      ]
    },
    {
      "cell_type": "markdown",
      "metadata": {
        "id": "KZqrWapnxN0K"
      },
      "source": [
        "## Ejercicios:\n"
      ]
    },
    {
      "cell_type": "markdown",
      "source": [
        "### Ejercicio 1\n",
        "Implementar una función que dada una lista **L** de números enteros, devuelva el elemento menor de la misma\n"
      ],
      "metadata": {
        "id": "Fm_1kH9rY6t2"
      }
    },
    {
      "cell_type": "code",
      "source": [
        "# COMPLETAR\n",
        "L=[73, 5, 11, 15, 18, 20, 55, 87]\n",
        "i=0\n",
        "while (i<len(L)):\n",
        "  if L[i]==min(L):\n",
        "    print(L[i])\n",
        "  i=i+1"
      ],
      "metadata": {
        "id": "86FElSfdY7Jw",
        "colab": {
          "base_uri": "https://localhost:8080/"
        },
        "outputId": "e49ed935-68d8-4c0a-a2e4-64362d7b042f"
      },
      "execution_count": 2,
      "outputs": [
        {
          "output_type": "stream",
          "name": "stdout",
          "text": [
            "5\n"
          ]
        }
      ]
    },
    {
      "cell_type": "markdown",
      "source": [
        "### Ejercicio 2\n",
        "Implementar una función que dada una lista **L** y un elemento **e**, devuelva la lista resultante de eliminar **e** de la lista original. Considerar la posibilidad que **e** se encuentre repetido."
      ],
      "metadata": {
        "id": "Y98G7O6kQrL2"
      }
    },
    {
      "cell_type": "code",
      "source": [
        "# COMPLETAR\n",
        "L =[10, 15, 27, 32, 15, 45, 60]\n",
        "e=15\n",
        "\n",
        "def remueve(L, e):\n",
        "  i=0\n",
        "  while (i <len(L)):\n",
        "    if L[i]==e:\n",
        "      L.pop(i)\n",
        "    i=i+1\n",
        "  return L\n",
        "\n",
        "remueve(L, e)\n"
      ],
      "metadata": {
        "id": "iN4TSbRnQ1f9",
        "colab": {
          "base_uri": "https://localhost:8080/"
        },
        "outputId": "7442f2c0-3569-4984-f6d4-d5fc200f1b1b"
      },
      "execution_count": 21,
      "outputs": [
        {
          "output_type": "execute_result",
          "data": {
            "text/plain": [
              "[10, 27, 32, 45, 60]"
            ]
          },
          "metadata": {},
          "execution_count": 21
        }
      ]
    },
    {
      "cell_type": "markdown",
      "source": [
        "### Ejercicio 3\n",
        "a) Implementar una función que dada una lista **L** busque cuántas veces aparece un elemento **e** en dicha lista.<br>\n",
        "Por ejemplo, en la lista [1,2,3,1,6,1,99,1,0] el número 1 aparece 4 veces.\n",
        "\n",
        "b) Si la lista se encuentra ordenada, ¿qué modificaciones realizaría al algoritmo para que la búsqueda sea mas eficiente? Implementar dicha modificación"
      ],
      "metadata": {
        "id": "4J3wi0FwY7l2"
      }
    },
    {
      "cell_type": "code",
      "source": [
        "L=[1,2,3,1,6,1,99,1,0]\n",
        "e=1"
      ],
      "metadata": {
        "id": "_ieXH-tLYcLu"
      },
      "execution_count": 43,
      "outputs": []
    },
    {
      "cell_type": "code",
      "source": [
        "L2=[0,1,1,1,1,2,3,6,99]"
      ],
      "metadata": {
        "id": "wKkOiuIWYaxK"
      },
      "execution_count": null,
      "outputs": []
    },
    {
      "cell_type": "code",
      "source": [
        "# COMPLETAR\n",
        "def busca(L, e):\n",
        "  cont=0\n",
        "  for i in range(0, len(L)-1):\n",
        "    if L[i]==e:\n",
        "      cont=cont+1\n",
        "  return cont\n",
        "print(busca(L, e))"
      ],
      "metadata": {
        "id": "Fgf8cGUqY8CU",
        "colab": {
          "base_uri": "https://localhost:8080/"
        },
        "outputId": "5ea31464-b051-4cf0-e8c9-d59eefa36e11"
      },
      "execution_count": 44,
      "outputs": [
        {
          "output_type": "stream",
          "name": "stdout",
          "text": [
            "4\n"
          ]
        }
      ]
    },
    {
      "cell_type": "code",
      "source": [
        "def buscaOrdenada(L, e):\n",
        "  cont=0\n",
        "  for i in range(0, len(L)-1):\n",
        "    if L[i]==e:\n",
        "      cont=cont+1\n",
        "  return cont\n",
        "print(buscaOrdenada(L2, e))"
      ],
      "metadata": {
        "id": "6GS6idS1Yv5B"
      },
      "execution_count": null,
      "outputs": []
    },
    {
      "cell_type": "markdown",
      "source": [
        "### Ejercicio 4\n",
        "Modificar la función de búsqueda binaria agergándole un tercer parámetro que indique si la lista está ordenada en forma creciente o decreciente.\n",
        "\n",
        "      BusquedaBinaria(lista,elemento,orden)"
      ],
      "metadata": {
        "id": "ePpvh0XuSE6F"
      }
    },
    {
      "cell_type": "code",
      "source": [
        "# COMPLETAR\n",
        "def BusquedaBinaria(lista,elemento):\n",
        "  esta, pos = False, -1\n",
        "  izq, der  = 0, len(lista)-1\n",
        "  if lista[0]<lista[1]:\n",
        "    orden=\"creciente\"\n",
        "  else:\n",
        "    orden=\"decreciente\"\n",
        "\n",
        "  while (izq < der):\n",
        "\n",
        "    med = (izq + der) // 2\n",
        "    if (lista[med] < elemento):\n",
        "      izq = med + 1\n",
        "\n",
        "    else:\n",
        "      der = med\n",
        "\n",
        "  if (len(lista) != 0 and lista[izq] == elemento):\n",
        "    esta, pos = True, izq\n",
        "\n",
        "  #return (esta, pos)\n",
        "  return (orden)\n",
        "  print(orden)\n",
        "BusquedaBinaria([65, 45, 34, 7,], 7)"
      ],
      "metadata": {
        "id": "B4VcohvgSmle",
        "colab": {
          "base_uri": "https://localhost:8080/",
          "height": 35
        },
        "outputId": "ad4907d3-ce30-41fd-a167-6a3bf0356281"
      },
      "execution_count": 34,
      "outputs": [
        {
          "output_type": "execute_result",
          "data": {
            "text/plain": [
              "'decreciente'"
            ],
            "application/vnd.google.colaboratory.intrinsic+json": {
              "type": "string"
            }
          },
          "metadata": {},
          "execution_count": 34
        }
      ]
    },
    {
      "cell_type": "markdown",
      "metadata": {
        "id": "m0qbdIGDKcUe"
      },
      "source": [
        "### Ejercicio 5\n",
        "\n",
        "Implementar una función que dadas dos listas ordenadas **L1** y **L2**  sin elementos repetidos devuelva la cantidad de elementos de L1 que aparecen en L2 en O(len(L1)+len(L2))\n"
      ]
    },
    {
      "cell_type": "code",
      "metadata": {
        "id": "p-2e8nLVKkB2"
      },
      "source": [
        "# COMPLETAR\n",
        "L1=[1, 3, 5, 7, 9]\n",
        "L2=[3, 6, 9, 12, 15]\n"
      ],
      "execution_count": null,
      "outputs": []
    },
    {
      "cell_type": "markdown",
      "metadata": {
        "id": "Rgd33nFaKltV"
      },
      "source": [
        "### Ejercicio 6\n",
        "\n",
        "Dada una lista cuyos valores están entre 0 y 9, implementar un algoritmo que la ordene en O(len(L))"
      ]
    },
    {
      "cell_type": "code",
      "metadata": {
        "id": "ESy4IwooKtqt"
      },
      "source": [
        "# COMPLETAR\n"
      ],
      "execution_count": null,
      "outputs": []
    }
  ]
}